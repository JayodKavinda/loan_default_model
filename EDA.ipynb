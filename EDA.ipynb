{
 "cells": [
  {
   "cell_type": "markdown",
   "id": "f79850db",
   "metadata": {},
   "source": [
    "# Loan Default Prediction"
   ]
  },
  {
   "cell_type": "code",
   "execution_count": 1,
   "id": "6f1fca3c",
   "metadata": {},
   "outputs": [],
   "source": [
    "import pandas as pd\n",
    "import numpy as np\n",
    "import matplotlib.pyplot as plt\n",
    "import seaborn as sns\n",
    "%matplotlib inline"
   ]
  },
  {
   "cell_type": "markdown",
   "id": "f624a8da",
   "metadata": {},
   "source": [
    "# EDA - V1"
   ]
  },
  {
   "cell_type": "code",
   "execution_count": 2,
   "id": "05f4fa87",
   "metadata": {},
   "outputs": [],
   "source": [
    "df = pd.read_excel ('data-S8.xlsx', sheet_name='Sheet1')"
   ]
  },
  {
   "cell_type": "markdown",
   "id": "53219dac",
   "metadata": {},
   "source": [
    "**Observing the Dataset**"
   ]
  },
  {
   "cell_type": "code",
   "execution_count": 3,
   "id": "17171f37",
   "metadata": {},
   "outputs": [
    {
     "data": {
      "text/html": [
       "<div>\n",
       "<style scoped>\n",
       "    .dataframe tbody tr th:only-of-type {\n",
       "        vertical-align: middle;\n",
       "    }\n",
       "\n",
       "    .dataframe tbody tr th {\n",
       "        vertical-align: top;\n",
       "    }\n",
       "\n",
       "    .dataframe thead th {\n",
       "        text-align: right;\n",
       "    }\n",
       "</style>\n",
       "<table border=\"1\" class=\"dataframe\">\n",
       "  <thead>\n",
       "    <tr style=\"text-align: right;\">\n",
       "      <th></th>\n",
       "      <th>PRODUCT_CODE</th>\n",
       "      <th>PRODUCT_NAME</th>\n",
       "      <th>PRODUCT_CATEGORY</th>\n",
       "      <th>CONTRACT_NO</th>\n",
       "      <th>CONTRACT_STATUS</th>\n",
       "      <th>IS_DEFAULT</th>\n",
       "      <th>CONTRACT_DATE</th>\n",
       "      <th>RECOVERY_STATUS</th>\n",
       "      <th>LAST_PAYMENT_DATE</th>\n",
       "      <th>RE_PROCESS_DATE</th>\n",
       "      <th>...</th>\n",
       "      <th>CITY</th>\n",
       "      <th>DISTRICT_NAME</th>\n",
       "      <th>PROVINCE</th>\n",
       "      <th>FINANCE_AMOUNT</th>\n",
       "      <th>CUSTOMER_VALUATION</th>\n",
       "      <th>EFFECTIVE_RATE</th>\n",
       "      <th>AGE</th>\n",
       "      <th>MARITAL_STATUS</th>\n",
       "      <th>INCOME</th>\n",
       "      <th>EXPENSE</th>\n",
       "    </tr>\n",
       "  </thead>\n",
       "  <tbody>\n",
       "    <tr>\n",
       "      <th>0</th>\n",
       "      <td>HP</td>\n",
       "      <td>HIRE PURCHASE</td>\n",
       "      <td>HIRE PURCHASE</td>\n",
       "      <td>BLHP006419</td>\n",
       "      <td>S</td>\n",
       "      <td>0</td>\n",
       "      <td>20-AUG-2014</td>\n",
       "      <td>T</td>\n",
       "      <td>31-MAR-2017</td>\n",
       "      <td>NaN</td>\n",
       "      <td>...</td>\n",
       "      <td>BALANGODA</td>\n",
       "      <td>RATNAPURA</td>\n",
       "      <td>SABARAGAMUWA</td>\n",
       "      <td>290000.0</td>\n",
       "      <td>375000.0</td>\n",
       "      <td>28.00</td>\n",
       "      <td>62.0</td>\n",
       "      <td>M</td>\n",
       "      <td>46000.0</td>\n",
       "      <td>15000.0</td>\n",
       "    </tr>\n",
       "    <tr>\n",
       "      <th>1</th>\n",
       "      <td>HP</td>\n",
       "      <td>HIRE PURCHASE</td>\n",
       "      <td>HIRE PURCHASE</td>\n",
       "      <td>BLHP006425</td>\n",
       "      <td>W</td>\n",
       "      <td>1</td>\n",
       "      <td>22-AUG-2014</td>\n",
       "      <td>TRS</td>\n",
       "      <td>12-SEP-2019</td>\n",
       "      <td>30-NOV-2015</td>\n",
       "      <td>...</td>\n",
       "      <td>BALANGODA</td>\n",
       "      <td>RATNAPURA</td>\n",
       "      <td>SABARAGAMUWA</td>\n",
       "      <td>375000.0</td>\n",
       "      <td>475000.0</td>\n",
       "      <td>28.00</td>\n",
       "      <td>40.0</td>\n",
       "      <td>M</td>\n",
       "      <td>40000.0</td>\n",
       "      <td>10750.0</td>\n",
       "    </tr>\n",
       "    <tr>\n",
       "      <th>2</th>\n",
       "      <td>HP</td>\n",
       "      <td>HIRE PURCHASE</td>\n",
       "      <td>HIRE PURCHASE</td>\n",
       "      <td>BLHP006435</td>\n",
       "      <td>S</td>\n",
       "      <td>0</td>\n",
       "      <td>31-AUG-2014</td>\n",
       "      <td>T</td>\n",
       "      <td>09-MAR-2017</td>\n",
       "      <td>NaN</td>\n",
       "      <td>...</td>\n",
       "      <td>BALANGODA</td>\n",
       "      <td>RATNAPURA</td>\n",
       "      <td>SABARAGAMUWA</td>\n",
       "      <td>300000.0</td>\n",
       "      <td>500000.0</td>\n",
       "      <td>28.01</td>\n",
       "      <td>50.0</td>\n",
       "      <td>S</td>\n",
       "      <td>150000.0</td>\n",
       "      <td>75000.0</td>\n",
       "    </tr>\n",
       "    <tr>\n",
       "      <th>3</th>\n",
       "      <td>HP</td>\n",
       "      <td>HIRE PURCHASE</td>\n",
       "      <td>HIRE PURCHASE</td>\n",
       "      <td>BLHP006446</td>\n",
       "      <td>S</td>\n",
       "      <td>0</td>\n",
       "      <td>18-SEP-2014</td>\n",
       "      <td>NaN</td>\n",
       "      <td>25-JUL-2016</td>\n",
       "      <td>NaN</td>\n",
       "      <td>...</td>\n",
       "      <td>BALANGODA</td>\n",
       "      <td>RATNAPURA</td>\n",
       "      <td>SABARAGAMUWA</td>\n",
       "      <td>365000.0</td>\n",
       "      <td>600000.0</td>\n",
       "      <td>20.00</td>\n",
       "      <td>67.0</td>\n",
       "      <td>M</td>\n",
       "      <td>35000.0</td>\n",
       "      <td>9000.0</td>\n",
       "    </tr>\n",
       "    <tr>\n",
       "      <th>4</th>\n",
       "      <td>HP</td>\n",
       "      <td>HIRE PURCHASE</td>\n",
       "      <td>HIRE PURCHASE</td>\n",
       "      <td>BLHP006457</td>\n",
       "      <td>S</td>\n",
       "      <td>0</td>\n",
       "      <td>22-SEP-2014</td>\n",
       "      <td>NaN</td>\n",
       "      <td>02-OCT-2018</td>\n",
       "      <td>NaN</td>\n",
       "      <td>...</td>\n",
       "      <td>BALANGODA</td>\n",
       "      <td>RATNAPURA</td>\n",
       "      <td>SABARAGAMUWA</td>\n",
       "      <td>550000.0</td>\n",
       "      <td>700000.0</td>\n",
       "      <td>28.00</td>\n",
       "      <td>35.0</td>\n",
       "      <td>S</td>\n",
       "      <td>80000.0</td>\n",
       "      <td>30000.0</td>\n",
       "    </tr>\n",
       "  </tbody>\n",
       "</table>\n",
       "<p>5 rows × 35 columns</p>\n",
       "</div>"
      ],
      "text/plain": [
       "  PRODUCT_CODE   PRODUCT_NAME PRODUCT_CATEGORY CONTRACT_NO CONTRACT_STATUS  \\\n",
       "0           HP  HIRE PURCHASE    HIRE PURCHASE  BLHP006419               S   \n",
       "1           HP  HIRE PURCHASE    HIRE PURCHASE  BLHP006425               W   \n",
       "2           HP  HIRE PURCHASE    HIRE PURCHASE  BLHP006435               S   \n",
       "3           HP  HIRE PURCHASE    HIRE PURCHASE  BLHP006446               S   \n",
       "4           HP  HIRE PURCHASE    HIRE PURCHASE  BLHP006457               S   \n",
       "\n",
       "   IS_DEFAULT CONTRACT_DATE RECOVERY_STATUS LAST_PAYMENT_DATE RE_PROCESS_DATE  \\\n",
       "0           0   20-AUG-2014               T       31-MAR-2017             NaN   \n",
       "1           1   22-AUG-2014             TRS       12-SEP-2019     30-NOV-2015   \n",
       "2           0   31-AUG-2014               T       09-MAR-2017             NaN   \n",
       "3           0   18-SEP-2014             NaN       25-JUL-2016             NaN   \n",
       "4           0   22-SEP-2014             NaN       02-OCT-2018             NaN   \n",
       "\n",
       "   ...       CITY DISTRICT_NAME      PROVINCE  FINANCE_AMOUNT  \\\n",
       "0  ...  BALANGODA     RATNAPURA  SABARAGAMUWA        290000.0   \n",
       "1  ...  BALANGODA     RATNAPURA  SABARAGAMUWA        375000.0   \n",
       "2  ...  BALANGODA     RATNAPURA  SABARAGAMUWA        300000.0   \n",
       "3  ...  BALANGODA     RATNAPURA  SABARAGAMUWA        365000.0   \n",
       "4  ...  BALANGODA     RATNAPURA  SABARAGAMUWA        550000.0   \n",
       "\n",
       "   CUSTOMER_VALUATION  EFFECTIVE_RATE   AGE  MARITAL_STATUS    INCOME  EXPENSE  \n",
       "0            375000.0           28.00  62.0               M   46000.0  15000.0  \n",
       "1            475000.0           28.00  40.0               M   40000.0  10750.0  \n",
       "2            500000.0           28.01  50.0               S  150000.0  75000.0  \n",
       "3            600000.0           20.00  67.0               M   35000.0   9000.0  \n",
       "4            700000.0           28.00  35.0               S   80000.0  30000.0  \n",
       "\n",
       "[5 rows x 35 columns]"
      ]
     },
     "execution_count": 3,
     "metadata": {},
     "output_type": "execute_result"
    }
   ],
   "source": [
    "df.head()    "
   ]
  },
  {
   "cell_type": "code",
   "execution_count": 4,
   "id": "2c613494",
   "metadata": {},
   "outputs": [
    {
     "data": {
      "text/html": [
       "<div>\n",
       "<style scoped>\n",
       "    .dataframe tbody tr th:only-of-type {\n",
       "        vertical-align: middle;\n",
       "    }\n",
       "\n",
       "    .dataframe tbody tr th {\n",
       "        vertical-align: top;\n",
       "    }\n",
       "\n",
       "    .dataframe thead th {\n",
       "        text-align: right;\n",
       "    }\n",
       "</style>\n",
       "<table border=\"1\" class=\"dataframe\">\n",
       "  <thead>\n",
       "    <tr style=\"text-align: right;\">\n",
       "      <th></th>\n",
       "      <th>PRODUCT_CODE</th>\n",
       "      <th>PRODUCT_NAME</th>\n",
       "      <th>PRODUCT_CATEGORY</th>\n",
       "      <th>CONTRACT_NO</th>\n",
       "      <th>CONTRACT_STATUS</th>\n",
       "      <th>IS_DEFAULT</th>\n",
       "      <th>CONTRACT_DATE</th>\n",
       "      <th>RECOVERY_STATUS</th>\n",
       "      <th>LAST_PAYMENT_DATE</th>\n",
       "      <th>RE_PROCESS_DATE</th>\n",
       "      <th>...</th>\n",
       "      <th>CITY</th>\n",
       "      <th>DISTRICT_NAME</th>\n",
       "      <th>PROVINCE</th>\n",
       "      <th>FINANCE_AMOUNT</th>\n",
       "      <th>CUSTOMER_VALUATION</th>\n",
       "      <th>EFFECTIVE_RATE</th>\n",
       "      <th>AGE</th>\n",
       "      <th>MARITAL_STATUS</th>\n",
       "      <th>INCOME</th>\n",
       "      <th>EXPENSE</th>\n",
       "    </tr>\n",
       "  </thead>\n",
       "  <tbody>\n",
       "    <tr>\n",
       "      <th>81013</th>\n",
       "      <td>MB</td>\n",
       "      <td>MOTOR BICYCLE</td>\n",
       "      <td>LEASING</td>\n",
       "      <td>KRMBA005639</td>\n",
       "      <td>S</td>\n",
       "      <td>0</td>\n",
       "      <td>28-SEP-2016</td>\n",
       "      <td>NaN</td>\n",
       "      <td>15-SEP-2018</td>\n",
       "      <td>NaN</td>\n",
       "      <td>...</td>\n",
       "      <td>KIRINDIWELA</td>\n",
       "      <td>GAMPAHA</td>\n",
       "      <td>WESTERN</td>\n",
       "      <td>165193.0</td>\n",
       "      <td>235990.0</td>\n",
       "      <td>40.89</td>\n",
       "      <td>52.0</td>\n",
       "      <td>M</td>\n",
       "      <td>70000.0</td>\n",
       "      <td>25000.0</td>\n",
       "    </tr>\n",
       "    <tr>\n",
       "      <th>81014</th>\n",
       "      <td>TW</td>\n",
       "      <td>THREE WHEELER</td>\n",
       "      <td>LEASING</td>\n",
       "      <td>GPTWA008432</td>\n",
       "      <td>S</td>\n",
       "      <td>0</td>\n",
       "      <td>30-SEP-2016</td>\n",
       "      <td>NaN</td>\n",
       "      <td>26-SEP-2019</td>\n",
       "      <td>NaN</td>\n",
       "      <td>...</td>\n",
       "      <td>GAMPAHA</td>\n",
       "      <td>GAMPAHA</td>\n",
       "      <td>WESTERN</td>\n",
       "      <td>216500.0</td>\n",
       "      <td>315000.0</td>\n",
       "      <td>28.04</td>\n",
       "      <td>52.0</td>\n",
       "      <td>M</td>\n",
       "      <td>128150.0</td>\n",
       "      <td>32495.0</td>\n",
       "    </tr>\n",
       "    <tr>\n",
       "      <th>81015</th>\n",
       "      <td>MB</td>\n",
       "      <td>MOTOR BICYCLE</td>\n",
       "      <td>LEASING</td>\n",
       "      <td>EMMBA009743</td>\n",
       "      <td>S</td>\n",
       "      <td>0</td>\n",
       "      <td>30-SEP-2016</td>\n",
       "      <td>NaN</td>\n",
       "      <td>01-FEB-2019</td>\n",
       "      <td>NaN</td>\n",
       "      <td>...</td>\n",
       "      <td>EMBILIPITIYA</td>\n",
       "      <td>RATNAPURA</td>\n",
       "      <td>SABARAGAMUWA</td>\n",
       "      <td>86030.0</td>\n",
       "      <td>122900.0</td>\n",
       "      <td>42.63</td>\n",
       "      <td>45.0</td>\n",
       "      <td>M</td>\n",
       "      <td>60000.0</td>\n",
       "      <td>12500.0</td>\n",
       "    </tr>\n",
       "    <tr>\n",
       "      <th>81016</th>\n",
       "      <td>MB</td>\n",
       "      <td>MOTOR BICYCLE</td>\n",
       "      <td>LEASING</td>\n",
       "      <td>APMBA008319</td>\n",
       "      <td>R</td>\n",
       "      <td>1</td>\n",
       "      <td>03-OCT-2016</td>\n",
       "      <td>NaN</td>\n",
       "      <td>06-DEC-2016</td>\n",
       "      <td>NaN</td>\n",
       "      <td>...</td>\n",
       "      <td>ANURADHAPURA</td>\n",
       "      <td>ANURADHAPURA</td>\n",
       "      <td>NORTH CENTRAL</td>\n",
       "      <td>156000.0</td>\n",
       "      <td>224500.0</td>\n",
       "      <td>30.66</td>\n",
       "      <td>30.0</td>\n",
       "      <td>M</td>\n",
       "      <td>70000.0</td>\n",
       "      <td>24000.0</td>\n",
       "    </tr>\n",
       "    <tr>\n",
       "      <th>81017</th>\n",
       "      <td>TW</td>\n",
       "      <td>THREE WHEELER</td>\n",
       "      <td>LEASING</td>\n",
       "      <td>MRTWA006452</td>\n",
       "      <td>S</td>\n",
       "      <td>0</td>\n",
       "      <td>05-OCT-2016</td>\n",
       "      <td>T</td>\n",
       "      <td>04-MAR-2020</td>\n",
       "      <td>NaN</td>\n",
       "      <td>...</td>\n",
       "      <td>MATARA</td>\n",
       "      <td>MATARA</td>\n",
       "      <td>SOUTHERN</td>\n",
       "      <td>161000.0</td>\n",
       "      <td>230000.0</td>\n",
       "      <td>27.85</td>\n",
       "      <td>36.0</td>\n",
       "      <td>M</td>\n",
       "      <td>120000.0</td>\n",
       "      <td>49000.0</td>\n",
       "    </tr>\n",
       "  </tbody>\n",
       "</table>\n",
       "<p>5 rows × 35 columns</p>\n",
       "</div>"
      ],
      "text/plain": [
       "      PRODUCT_CODE   PRODUCT_NAME PRODUCT_CATEGORY  CONTRACT_NO  \\\n",
       "81013           MB  MOTOR BICYCLE          LEASING  KRMBA005639   \n",
       "81014           TW  THREE WHEELER          LEASING  GPTWA008432   \n",
       "81015           MB  MOTOR BICYCLE          LEASING  EMMBA009743   \n",
       "81016           MB  MOTOR BICYCLE          LEASING  APMBA008319   \n",
       "81017           TW  THREE WHEELER          LEASING  MRTWA006452   \n",
       "\n",
       "      CONTRACT_STATUS  IS_DEFAULT CONTRACT_DATE RECOVERY_STATUS  \\\n",
       "81013               S           0   28-SEP-2016             NaN   \n",
       "81014               S           0   30-SEP-2016             NaN   \n",
       "81015               S           0   30-SEP-2016             NaN   \n",
       "81016               R           1   03-OCT-2016             NaN   \n",
       "81017               S           0   05-OCT-2016               T   \n",
       "\n",
       "      LAST_PAYMENT_DATE RE_PROCESS_DATE  ...          CITY DISTRICT_NAME  \\\n",
       "81013       15-SEP-2018             NaN  ...   KIRINDIWELA       GAMPAHA   \n",
       "81014       26-SEP-2019             NaN  ...       GAMPAHA       GAMPAHA   \n",
       "81015       01-FEB-2019             NaN  ...  EMBILIPITIYA     RATNAPURA   \n",
       "81016       06-DEC-2016             NaN  ...  ANURADHAPURA  ANURADHAPURA   \n",
       "81017       04-MAR-2020             NaN  ...        MATARA        MATARA   \n",
       "\n",
       "             PROVINCE  FINANCE_AMOUNT  CUSTOMER_VALUATION  EFFECTIVE_RATE  \\\n",
       "81013        WESTERN         165193.0            235990.0           40.89   \n",
       "81014        WESTERN         216500.0            315000.0           28.04   \n",
       "81015    SABARAGAMUWA         86030.0            122900.0           42.63   \n",
       "81016  NORTH CENTRAL         156000.0            224500.0           30.66   \n",
       "81017       SOUTHERN         161000.0            230000.0           27.85   \n",
       "\n",
       "        AGE  MARITAL_STATUS    INCOME  EXPENSE  \n",
       "81013  52.0               M   70000.0  25000.0  \n",
       "81014  52.0               M  128150.0  32495.0  \n",
       "81015  45.0               M   60000.0  12500.0  \n",
       "81016  30.0               M   70000.0  24000.0  \n",
       "81017  36.0               M  120000.0  49000.0  \n",
       "\n",
       "[5 rows x 35 columns]"
      ]
     },
     "execution_count": 4,
     "metadata": {},
     "output_type": "execute_result"
    }
   ],
   "source": [
    "df.tail()"
   ]
  },
  {
   "cell_type": "code",
   "execution_count": 5,
   "id": "daa218df",
   "metadata": {},
   "outputs": [
    {
     "data": {
      "text/plain": [
       "(81018, 35)"
      ]
     },
     "execution_count": 5,
     "metadata": {},
     "output_type": "execute_result"
    }
   ],
   "source": [
    "df.shape"
   ]
  },
  {
   "cell_type": "code",
   "execution_count": 6,
   "id": "6099d420",
   "metadata": {},
   "outputs": [
    {
     "data": {
      "text/plain": [
       "Index(['PRODUCT_CODE', 'PRODUCT_NAME', 'PRODUCT_CATEGORY', 'CONTRACT_NO',\n",
       "       'CONTRACT_STATUS', 'IS_DEFAULT', 'CONTRACT_DATE', 'RECOVERY_STATUS',\n",
       "       'LAST_PAYMENT_DATE', 'RE_PROCESS_DATE', 'RESCHEDULE', 'DUE_FREQUENCY',\n",
       "       'NET_RENTAL', 'NET_RENTAL_NEW', 'NR_PMT', 'NO_OF_RENTAL',\n",
       "       'PAID_RENTALS', 'CB_ARREARS_AGE', 'ASSET_TYPE_NAME', 'YOM', 'MAKE',\n",
       "       'MODEL_NAME', 'REGISTRATION', 'REGISTRATION_NO', 'GENDER', 'CITY',\n",
       "       'DISTRICT_NAME', 'PROVINCE', 'FINANCE_AMOUNT', 'CUSTOMER_VALUATION',\n",
       "       'EFFECTIVE_RATE', 'AGE', 'MARITAL_STATUS', 'INCOME', 'EXPENSE'],\n",
       "      dtype='object')"
      ]
     },
     "execution_count": 6,
     "metadata": {},
     "output_type": "execute_result"
    }
   ],
   "source": [
    "df.columns"
   ]
  },
  {
   "cell_type": "code",
   "execution_count": 7,
   "id": "6ce17bcf",
   "metadata": {},
   "outputs": [
    {
     "data": {
      "text/plain": [
       "PRODUCT_CODE             14\n",
       "PRODUCT_NAME             14\n",
       "PRODUCT_CATEGORY          4\n",
       "CONTRACT_NO           80494\n",
       "CONTRACT_STATUS           4\n",
       "IS_DEFAULT                2\n",
       "CONTRACT_DATE          1412\n",
       "RECOVERY_STATUS          16\n",
       "LAST_PAYMENT_DATE      2379\n",
       "RE_PROCESS_DATE        1556\n",
       "RESCHEDULE                2\n",
       "DUE_FREQUENCY             1\n",
       "NET_RENTAL            19138\n",
       "NET_RENTAL_NEW        18031\n",
       "NR_PMT                47796\n",
       "NO_OF_RENTAL             59\n",
       "PAID_RENTALS           1164\n",
       "CB_ARREARS_AGE         4444\n",
       "ASSET_TYPE_NAME          20\n",
       "YOM                     104\n",
       "MAKE                    247\n",
       "MODEL_NAME             4973\n",
       "REGISTRATION              2\n",
       "REGISTRATION_NO       76282\n",
       "GENDER                    2\n",
       "CITY                     93\n",
       "DISTRICT_NAME            24\n",
       "PROVINCE                  9\n",
       "FINANCE_AMOUNT        14261\n",
       "CUSTOMER_VALUATION     1881\n",
       "EFFECTIVE_RATE         3097\n",
       "AGE                      68\n",
       "MARITAL_STATUS            6\n",
       "INCOME                 5837\n",
       "EXPENSE                2886\n",
       "dtype: int64"
      ]
     },
     "execution_count": 7,
     "metadata": {},
     "output_type": "execute_result"
    }
   ],
   "source": [
    "df.nunique()"
   ]
  },
  {
   "cell_type": "code",
   "execution_count": 8,
   "id": "e27e5935",
   "metadata": {},
   "outputs": [
    {
     "data": {
      "text/plain": [
       "PRODUCT_CODE              0\n",
       "PRODUCT_NAME              0\n",
       "PRODUCT_CATEGORY          0\n",
       "CONTRACT_NO               0\n",
       "CONTRACT_STATUS           0\n",
       "IS_DEFAULT                0\n",
       "CONTRACT_DATE             0\n",
       "RECOVERY_STATUS       36952\n",
       "LAST_PAYMENT_DATE        45\n",
       "RE_PROCESS_DATE       72273\n",
       "RESCHEDULE                0\n",
       "DUE_FREQUENCY             0\n",
       "NET_RENTAL                0\n",
       "NET_RENTAL_NEW            0\n",
       "NR_PMT                    0\n",
       "NO_OF_RENTAL              0\n",
       "PAID_RENTALS              0\n",
       "CB_ARREARS_AGE            0\n",
       "ASSET_TYPE_NAME           0\n",
       "YOM                       0\n",
       "MAKE                      0\n",
       "MODEL_NAME                8\n",
       "REGISTRATION              0\n",
       "REGISTRATION_NO         470\n",
       "GENDER                  290\n",
       "CITY                      0\n",
       "DISTRICT_NAME             0\n",
       "PROVINCE                  0\n",
       "FINANCE_AMOUNT            0\n",
       "CUSTOMER_VALUATION      222\n",
       "EFFECTIVE_RATE            0\n",
       "AGE                      21\n",
       "MARITAL_STATUS         1687\n",
       "INCOME                    0\n",
       "EXPENSE                   0\n",
       "dtype: int64"
      ]
     },
     "execution_count": 8,
     "metadata": {},
     "output_type": "execute_result"
    }
   ],
   "source": [
    "df.isnull().sum()"
   ]
  },
  {
   "cell_type": "markdown",
   "id": "89b6739b",
   "metadata": {},
   "source": [
    "**Droping non features**"
   ]
  },
  {
   "cell_type": "code",
   "execution_count": 9,
   "id": "4b9f3e43",
   "metadata": {},
   "outputs": [],
   "source": [
    "sample = df.drop(['PRODUCT_CODE', 'CONTRACT_NO',\n",
    "       'CONTRACT_STATUS', 'CONTRACT_DATE', 'RECOVERY_STATUS',\n",
    "       'LAST_PAYMENT_DATE', 'RE_PROCESS_DATE', 'RESCHEDULE', 'DUE_FREQUENCY',\n",
    "       'PAID_RENTALS', 'CB_ARREARS_AGE'],axis=1)"
   ]
  },
  {
   "cell_type": "code",
   "execution_count": 10,
   "id": "0340e2f8",
   "metadata": {},
   "outputs": [
    {
     "data": {
      "text/plain": [
       "Index(['PRODUCT_NAME', 'PRODUCT_CATEGORY', 'IS_DEFAULT', 'NET_RENTAL',\n",
       "       'NET_RENTAL_NEW', 'NR_PMT', 'NO_OF_RENTAL', 'ASSET_TYPE_NAME', 'YOM',\n",
       "       'MAKE', 'MODEL_NAME', 'REGISTRATION', 'REGISTRATION_NO', 'GENDER',\n",
       "       'CITY', 'DISTRICT_NAME', 'PROVINCE', 'FINANCE_AMOUNT',\n",
       "       'CUSTOMER_VALUATION', 'EFFECTIVE_RATE', 'AGE', 'MARITAL_STATUS',\n",
       "       'INCOME', 'EXPENSE'],\n",
       "      dtype='object')"
      ]
     },
     "execution_count": 10,
     "metadata": {},
     "output_type": "execute_result"
    }
   ],
   "source": [
    "sample.columns"
   ]
  },
  {
   "cell_type": "code",
   "execution_count": 11,
   "id": "d3c50d28",
   "metadata": {},
   "outputs": [
    {
     "data": {
      "text/html": [
       "<div>\n",
       "<style scoped>\n",
       "    .dataframe tbody tr th:only-of-type {\n",
       "        vertical-align: middle;\n",
       "    }\n",
       "\n",
       "    .dataframe tbody tr th {\n",
       "        vertical-align: top;\n",
       "    }\n",
       "\n",
       "    .dataframe thead th {\n",
       "        text-align: right;\n",
       "    }\n",
       "</style>\n",
       "<table border=\"1\" class=\"dataframe\">\n",
       "  <thead>\n",
       "    <tr style=\"text-align: right;\">\n",
       "      <th></th>\n",
       "      <th>PRODUCT_NAME</th>\n",
       "      <th>PRODUCT_CATEGORY</th>\n",
       "      <th>IS_DEFAULT</th>\n",
       "      <th>NET_RENTAL</th>\n",
       "      <th>NET_RENTAL_NEW</th>\n",
       "      <th>NR_PMT</th>\n",
       "      <th>NO_OF_RENTAL</th>\n",
       "      <th>ASSET_TYPE_NAME</th>\n",
       "      <th>YOM</th>\n",
       "      <th>MAKE</th>\n",
       "      <th>...</th>\n",
       "      <th>CITY</th>\n",
       "      <th>DISTRICT_NAME</th>\n",
       "      <th>PROVINCE</th>\n",
       "      <th>FINANCE_AMOUNT</th>\n",
       "      <th>CUSTOMER_VALUATION</th>\n",
       "      <th>EFFECTIVE_RATE</th>\n",
       "      <th>AGE</th>\n",
       "      <th>MARITAL_STATUS</th>\n",
       "      <th>INCOME</th>\n",
       "      <th>EXPENSE</th>\n",
       "    </tr>\n",
       "  </thead>\n",
       "  <tbody>\n",
       "    <tr>\n",
       "      <th>0</th>\n",
       "      <td>HIRE PURCHASE</td>\n",
       "      <td>HIRE PURCHASE</td>\n",
       "      <td>0</td>\n",
       "      <td>11996.0</td>\n",
       "      <td>11995</td>\n",
       "      <td>-11995.440424</td>\n",
       "      <td>36</td>\n",
       "      <td>Car</td>\n",
       "      <td>1979</td>\n",
       "      <td>MITSUBISHI</td>\n",
       "      <td>...</td>\n",
       "      <td>BALANGODA</td>\n",
       "      <td>RATNAPURA</td>\n",
       "      <td>SABARAGAMUWA</td>\n",
       "      <td>290000.0</td>\n",
       "      <td>375000.0</td>\n",
       "      <td>28.00</td>\n",
       "      <td>62.0</td>\n",
       "      <td>M</td>\n",
       "      <td>46000.0</td>\n",
       "      <td>15000.0</td>\n",
       "    </tr>\n",
       "    <tr>\n",
       "      <th>1</th>\n",
       "      <td>HIRE PURCHASE</td>\n",
       "      <td>HIRE PURCHASE</td>\n",
       "      <td>1</td>\n",
       "      <td>13070.0</td>\n",
       "      <td>13070</td>\n",
       "      <td>-13069.554943</td>\n",
       "      <td>48</td>\n",
       "      <td>Car</td>\n",
       "      <td>1985</td>\n",
       "      <td>MITSUBISHI</td>\n",
       "      <td>...</td>\n",
       "      <td>BALANGODA</td>\n",
       "      <td>RATNAPURA</td>\n",
       "      <td>SABARAGAMUWA</td>\n",
       "      <td>375000.0</td>\n",
       "      <td>475000.0</td>\n",
       "      <td>28.00</td>\n",
       "      <td>40.0</td>\n",
       "      <td>M</td>\n",
       "      <td>40000.0</td>\n",
       "      <td>10750.0</td>\n",
       "    </tr>\n",
       "    <tr>\n",
       "      <th>2</th>\n",
       "      <td>HIRE PURCHASE</td>\n",
       "      <td>HIRE PURCHASE</td>\n",
       "      <td>0</td>\n",
       "      <td>12410.0</td>\n",
       "      <td>12411</td>\n",
       "      <td>-12410.697120</td>\n",
       "      <td>36</td>\n",
       "      <td>Car</td>\n",
       "      <td>1984</td>\n",
       "      <td>TOYOTA</td>\n",
       "      <td>...</td>\n",
       "      <td>BALANGODA</td>\n",
       "      <td>RATNAPURA</td>\n",
       "      <td>SABARAGAMUWA</td>\n",
       "      <td>300000.0</td>\n",
       "      <td>500000.0</td>\n",
       "      <td>28.01</td>\n",
       "      <td>50.0</td>\n",
       "      <td>S</td>\n",
       "      <td>150000.0</td>\n",
       "      <td>75000.0</td>\n",
       "    </tr>\n",
       "    <tr>\n",
       "      <th>3</th>\n",
       "      <td>HIRE PURCHASE</td>\n",
       "      <td>HIRE PURCHASE</td>\n",
       "      <td>0</td>\n",
       "      <td>11108.0</td>\n",
       "      <td>11107</td>\n",
       "      <td>-11107.082256</td>\n",
       "      <td>48</td>\n",
       "      <td>Car</td>\n",
       "      <td>1987</td>\n",
       "      <td>NISSAN</td>\n",
       "      <td>...</td>\n",
       "      <td>BALANGODA</td>\n",
       "      <td>RATNAPURA</td>\n",
       "      <td>SABARAGAMUWA</td>\n",
       "      <td>365000.0</td>\n",
       "      <td>600000.0</td>\n",
       "      <td>20.00</td>\n",
       "      <td>67.0</td>\n",
       "      <td>M</td>\n",
       "      <td>35000.0</td>\n",
       "      <td>9000.0</td>\n",
       "    </tr>\n",
       "    <tr>\n",
       "      <th>4</th>\n",
       "      <td>HIRE PURCHASE</td>\n",
       "      <td>HIRE PURCHASE</td>\n",
       "      <td>0</td>\n",
       "      <td>19169.0</td>\n",
       "      <td>19169</td>\n",
       "      <td>-19168.680584</td>\n",
       "      <td>48</td>\n",
       "      <td>Car</td>\n",
       "      <td>1990</td>\n",
       "      <td>NISSAN</td>\n",
       "      <td>...</td>\n",
       "      <td>BALANGODA</td>\n",
       "      <td>RATNAPURA</td>\n",
       "      <td>SABARAGAMUWA</td>\n",
       "      <td>550000.0</td>\n",
       "      <td>700000.0</td>\n",
       "      <td>28.00</td>\n",
       "      <td>35.0</td>\n",
       "      <td>S</td>\n",
       "      <td>80000.0</td>\n",
       "      <td>30000.0</td>\n",
       "    </tr>\n",
       "  </tbody>\n",
       "</table>\n",
       "<p>5 rows × 24 columns</p>\n",
       "</div>"
      ],
      "text/plain": [
       "    PRODUCT_NAME PRODUCT_CATEGORY  IS_DEFAULT  NET_RENTAL  NET_RENTAL_NEW  \\\n",
       "0  HIRE PURCHASE    HIRE PURCHASE           0     11996.0           11995   \n",
       "1  HIRE PURCHASE    HIRE PURCHASE           1     13070.0           13070   \n",
       "2  HIRE PURCHASE    HIRE PURCHASE           0     12410.0           12411   \n",
       "3  HIRE PURCHASE    HIRE PURCHASE           0     11108.0           11107   \n",
       "4  HIRE PURCHASE    HIRE PURCHASE           0     19169.0           19169   \n",
       "\n",
       "         NR_PMT  NO_OF_RENTAL ASSET_TYPE_NAME   YOM        MAKE  ...  \\\n",
       "0 -11995.440424            36             Car  1979  MITSUBISHI  ...   \n",
       "1 -13069.554943            48             Car  1985  MITSUBISHI  ...   \n",
       "2 -12410.697120            36             Car  1984      TOYOTA  ...   \n",
       "3 -11107.082256            48             Car  1987      NISSAN  ...   \n",
       "4 -19168.680584            48             Car  1990      NISSAN  ...   \n",
       "\n",
       "        CITY DISTRICT_NAME      PROVINCE FINANCE_AMOUNT CUSTOMER_VALUATION  \\\n",
       "0  BALANGODA     RATNAPURA  SABARAGAMUWA       290000.0           375000.0   \n",
       "1  BALANGODA     RATNAPURA  SABARAGAMUWA       375000.0           475000.0   \n",
       "2  BALANGODA     RATNAPURA  SABARAGAMUWA       300000.0           500000.0   \n",
       "3  BALANGODA     RATNAPURA  SABARAGAMUWA       365000.0           600000.0   \n",
       "4  BALANGODA     RATNAPURA  SABARAGAMUWA       550000.0           700000.0   \n",
       "\n",
       "  EFFECTIVE_RATE   AGE  MARITAL_STATUS    INCOME  EXPENSE  \n",
       "0          28.00  62.0               M   46000.0  15000.0  \n",
       "1          28.00  40.0               M   40000.0  10750.0  \n",
       "2          28.01  50.0               S  150000.0  75000.0  \n",
       "3          20.00  67.0               M   35000.0   9000.0  \n",
       "4          28.00  35.0               S   80000.0  30000.0  \n",
       "\n",
       "[5 rows x 24 columns]"
      ]
     },
     "execution_count": 11,
     "metadata": {},
     "output_type": "execute_result"
    }
   ],
   "source": [
    "sample.head()"
   ]
  },
  {
   "cell_type": "code",
   "execution_count": 12,
   "id": "4311074c",
   "metadata": {},
   "outputs": [
    {
     "data": {
      "text/plain": [
       "PRODUCT_NAME             0\n",
       "PRODUCT_CATEGORY         0\n",
       "IS_DEFAULT               0\n",
       "NET_RENTAL               0\n",
       "NET_RENTAL_NEW           0\n",
       "NR_PMT                   0\n",
       "NO_OF_RENTAL             0\n",
       "ASSET_TYPE_NAME          0\n",
       "YOM                      0\n",
       "MAKE                     0\n",
       "MODEL_NAME               8\n",
       "REGISTRATION             0\n",
       "REGISTRATION_NO        470\n",
       "GENDER                 290\n",
       "CITY                     0\n",
       "DISTRICT_NAME            0\n",
       "PROVINCE                 0\n",
       "FINANCE_AMOUNT           0\n",
       "CUSTOMER_VALUATION     222\n",
       "EFFECTIVE_RATE           0\n",
       "AGE                     21\n",
       "MARITAL_STATUS        1687\n",
       "INCOME                   0\n",
       "EXPENSE                  0\n",
       "dtype: int64"
      ]
     },
     "execution_count": 12,
     "metadata": {},
     "output_type": "execute_result"
    }
   ],
   "source": [
    "sample.isnull().sum()"
   ]
  },
  {
   "cell_type": "code",
   "execution_count": 13,
   "id": "6fe1e515",
   "metadata": {},
   "outputs": [
    {
     "data": {
      "text/plain": [
       "<AxesSubplot:>"
      ]
     },
     "execution_count": 13,
     "metadata": {},
     "output_type": "execute_result"
    },
    {
     "data": {
      "image/png": "[encoded data removed]",
      "text/plain": [
       "<Figure size 432x288 with 1 Axes>"
      ]
     },
     "metadata": {
      "needs_background": "light"
     },
     "output_type": "display_data"
    }
   ],
   "source": [
    "sns.heatmap(sample.isnull(),yticklabels=False,cbar=False,cmap='viridis')"
   ]
  },
  {
   "cell_type": "code",
   "execution_count": 14,
   "id": "700a9b1a",
   "metadata": {},
   "outputs": [],
   "source": [
    "def impute_mstatus(msts):\n",
    "    MARITAL_STATUS = msts\n",
    "    \n",
    "    if pd.isnull(MARITAL_STATUS):\n",
    "        return 'M'\n",
    "\n",
    "    else:\n",
    "        return MARITAL_STATUS"
   ]
  },
  {
   "cell_type": "code",
   "execution_count": 15,
   "id": "3436a2f6",
   "metadata": {},
   "outputs": [],
   "source": [
    "sample['MARITAL_STATUS'] = sample['MARITAL_STATUS'].apply(impute_mstatus)"
   ]
  },
  {
   "cell_type": "markdown",
   "id": "a3d20d4c",
   "metadata": {},
   "source": [
    "***Now null values of Marital status are filled with 'M' which indicates the married***"
   ]
  },
  {
   "cell_type": "code",
   "execution_count": 16,
   "id": "bd8a83d4",
   "metadata": {},
   "outputs": [],
   "source": [
    "#if sample['ASSET_TYPE_NAME'] == \"not defined\" :\n",
    "    #sample = df.drop(['ASSET_TYPE_NAME'],axis=0)\n",
    "    "
   ]
  },
  {
   "cell_type": "markdown",
   "id": "9151fa0f",
   "metadata": {},
   "source": [
    "**Relationship Analysis**"
   ]
  },
  {
   "cell_type": "code",
   "execution_count": 17,
   "id": "71efcb39",
   "metadata": {},
   "outputs": [],
   "source": [
    "from sklearn.preprocessing import LabelEncoder"
   ]
  },
  {
   "cell_type": "code",
   "execution_count": 18,
   "id": "d0c161db",
   "metadata": {},
   "outputs": [],
   "source": [
    "le_new = LabelEncoder()\n",
    "sample['Gen_n'] = le_new.fit_transform(sample['GENDER'])\n",
    "sample['PName'] = le_new.fit_transform(sample['PRODUCT_NAME'])\n",
    "sample['PCat'] = le_new.fit_transform(sample['PRODUCT_CATEGORY'])\n",
    "sample['AType'] = le_new.fit_transform(sample['ASSET_TYPE_NAME'])\n",
    "sample['Make'] = le_new.fit_transform(sample['MAKE'])\n",
    "sample['Reg'] = le_new.fit_transform(sample['REGISTRATION'])\n",
    "sample['DName'] = le_new.fit_transform(sample['DISTRICT_NAME'])\n",
    "sample['City'] = le_new.fit_transform(sample['CITY'])\n",
    "sample['MStatus'] = le_new.fit_transform(sample['MARITAL_STATUS'])\n"
   ]
  },
  {
   "cell_type": "code",
   "execution_count": 19,
   "id": "ff816eca",
   "metadata": {},
   "outputs": [],
   "source": [
    "sample = sample.drop(['GENDER','PRODUCT_NAME','PRODUCT_CATEGORY','ASSET_TYPE_NAME','MAKE','REGISTRATION','DISTRICT_NAME','CITY','MARITAL_STATUS'],axis=1)"
   ]
  },
  {
   "cell_type": "code",
   "execution_count": 20,
   "id": "b1b2d11f",
   "metadata": {},
   "outputs": [
    {
     "data": {
      "text/html": [
       "<div>\n",
       "<style scoped>\n",
       "    .dataframe tbody tr th:only-of-type {\n",
       "        vertical-align: middle;\n",
       "    }\n",
       "\n",
       "    .dataframe tbody tr th {\n",
       "        vertical-align: top;\n",
       "    }\n",
       "\n",
       "    .dataframe thead th {\n",
       "        text-align: right;\n",
       "    }\n",
       "</style>\n",
       "<table border=\"1\" class=\"dataframe\">\n",
       "  <thead>\n",
       "    <tr style=\"text-align: right;\">\n",
       "      <th></th>\n",
       "      <th>IS_DEFAULT</th>\n",
       "      <th>NET_RENTAL</th>\n",
       "      <th>NET_RENTAL_NEW</th>\n",
       "      <th>NR_PMT</th>\n",
       "      <th>NO_OF_RENTAL</th>\n",
       "      <th>YOM</th>\n",
       "      <th>MODEL_NAME</th>\n",
       "      <th>REGISTRATION_NO</th>\n",
       "      <th>PROVINCE</th>\n",
       "      <th>FINANCE_AMOUNT</th>\n",
       "      <th>...</th>\n",
       "      <th>EXPENSE</th>\n",
       "      <th>Gen_n</th>\n",
       "      <th>PName</th>\n",
       "      <th>PCat</th>\n",
       "      <th>AType</th>\n",
       "      <th>Make</th>\n",
       "      <th>Reg</th>\n",
       "      <th>DName</th>\n",
       "      <th>City</th>\n",
       "      <th>MStatus</th>\n",
       "    </tr>\n",
       "  </thead>\n",
       "  <tbody>\n",
       "    <tr>\n",
       "      <th>0</th>\n",
       "      <td>0</td>\n",
       "      <td>11996.0</td>\n",
       "      <td>11995</td>\n",
       "      <td>-11995.440424</td>\n",
       "      <td>36</td>\n",
       "      <td>1979</td>\n",
       "      <td>LANCER</td>\n",
       "      <td>12-8884</td>\n",
       "      <td>SABARAGAMUWA</td>\n",
       "      <td>290000.0</td>\n",
       "      <td>...</td>\n",
       "      <td>15000.0</td>\n",
       "      <td>1</td>\n",
       "      <td>2</td>\n",
       "      <td>1</td>\n",
       "      <td>3</td>\n",
       "      <td>150</td>\n",
       "      <td>1</td>\n",
       "      <td>21</td>\n",
       "      <td>11</td>\n",
       "      <td>1</td>\n",
       "    </tr>\n",
       "    <tr>\n",
       "      <th>1</th>\n",
       "      <td>1</td>\n",
       "      <td>13070.0</td>\n",
       "      <td>13070</td>\n",
       "      <td>-13069.554943</td>\n",
       "      <td>48</td>\n",
       "      <td>1985</td>\n",
       "      <td>LANCER</td>\n",
       "      <td>15-5722</td>\n",
       "      <td>SABARAGAMUWA</td>\n",
       "      <td>375000.0</td>\n",
       "      <td>...</td>\n",
       "      <td>10750.0</td>\n",
       "      <td>1</td>\n",
       "      <td>2</td>\n",
       "      <td>1</td>\n",
       "      <td>3</td>\n",
       "      <td>150</td>\n",
       "      <td>1</td>\n",
       "      <td>21</td>\n",
       "      <td>11</td>\n",
       "      <td>1</td>\n",
       "    </tr>\n",
       "    <tr>\n",
       "      <th>2</th>\n",
       "      <td>0</td>\n",
       "      <td>12410.0</td>\n",
       "      <td>12411</td>\n",
       "      <td>-12410.697120</td>\n",
       "      <td>36</td>\n",
       "      <td>1984</td>\n",
       "      <td>COROLLA</td>\n",
       "      <td>15-0891</td>\n",
       "      <td>SABARAGAMUWA</td>\n",
       "      <td>300000.0</td>\n",
       "      <td>...</td>\n",
       "      <td>75000.0</td>\n",
       "      <td>1</td>\n",
       "      <td>2</td>\n",
       "      <td>1</td>\n",
       "      <td>3</td>\n",
       "      <td>220</td>\n",
       "      <td>1</td>\n",
       "      <td>21</td>\n",
       "      <td>11</td>\n",
       "      <td>3</td>\n",
       "    </tr>\n",
       "    <tr>\n",
       "      <th>3</th>\n",
       "      <td>0</td>\n",
       "      <td>11108.0</td>\n",
       "      <td>11107</td>\n",
       "      <td>-11107.082256</td>\n",
       "      <td>48</td>\n",
       "      <td>1987</td>\n",
       "      <td>SUNNY</td>\n",
       "      <td>15-8163</td>\n",
       "      <td>SABARAGAMUWA</td>\n",
       "      <td>365000.0</td>\n",
       "      <td>...</td>\n",
       "      <td>9000.0</td>\n",
       "      <td>1</td>\n",
       "      <td>2</td>\n",
       "      <td>1</td>\n",
       "      <td>3</td>\n",
       "      <td>169</td>\n",
       "      <td>1</td>\n",
       "      <td>21</td>\n",
       "      <td>11</td>\n",
       "      <td>1</td>\n",
       "    </tr>\n",
       "    <tr>\n",
       "      <th>4</th>\n",
       "      <td>0</td>\n",
       "      <td>19169.0</td>\n",
       "      <td>19169</td>\n",
       "      <td>-19168.680584</td>\n",
       "      <td>48</td>\n",
       "      <td>1990</td>\n",
       "      <td>MARCH.</td>\n",
       "      <td>18-4459</td>\n",
       "      <td>SABARAGAMUWA</td>\n",
       "      <td>550000.0</td>\n",
       "      <td>...</td>\n",
       "      <td>30000.0</td>\n",
       "      <td>0</td>\n",
       "      <td>2</td>\n",
       "      <td>1</td>\n",
       "      <td>3</td>\n",
       "      <td>169</td>\n",
       "      <td>1</td>\n",
       "      <td>21</td>\n",
       "      <td>11</td>\n",
       "      <td>3</td>\n",
       "    </tr>\n",
       "  </tbody>\n",
       "</table>\n",
       "<p>5 rows × 24 columns</p>\n",
       "</div>"
      ],
      "text/plain": [
       "   IS_DEFAULT  NET_RENTAL  NET_RENTAL_NEW        NR_PMT  NO_OF_RENTAL   YOM  \\\n",
       "0           0     11996.0           11995 -11995.440424            36  1979   \n",
       "1           1     13070.0           13070 -13069.554943            48  1985   \n",
       "2           0     12410.0           12411 -12410.697120            36  1984   \n",
       "3           0     11108.0           11107 -11107.082256            48  1987   \n",
       "4           0     19169.0           19169 -19168.680584            48  1990   \n",
       "\n",
       "  MODEL_NAME REGISTRATION_NO      PROVINCE  FINANCE_AMOUNT  ...  EXPENSE  \\\n",
       "0     LANCER         12-8884  SABARAGAMUWA        290000.0  ...  15000.0   \n",
       "1     LANCER         15-5722  SABARAGAMUWA        375000.0  ...  10750.0   \n",
       "2    COROLLA         15-0891  SABARAGAMUWA        300000.0  ...  75000.0   \n",
       "3      SUNNY         15-8163  SABARAGAMUWA        365000.0  ...   9000.0   \n",
       "4     MARCH.         18-4459  SABARAGAMUWA        550000.0  ...  30000.0   \n",
       "\n",
       "   Gen_n  PName  PCat  AType  Make  Reg  DName  City  MStatus  \n",
       "0      1      2     1      3   150    1     21    11        1  \n",
       "1      1      2     1      3   150    1     21    11        1  \n",
       "2      1      2     1      3   220    1     21    11        3  \n",
       "3      1      2     1      3   169    1     21    11        1  \n",
       "4      0      2     1      3   169    1     21    11        3  \n",
       "\n",
       "[5 rows x 24 columns]"
      ]
     },
     "execution_count": 20,
     "metadata": {},
     "output_type": "execute_result"
    }
   ],
   "source": [
    "sample.head()"
   ]
  },
  {
   "cell_type": "markdown",
   "id": "fd0f47be",
   "metadata": {},
   "source": [
    "**Droping categorical data**"
   ]
  },
  {
   "cell_type": "code",
   "execution_count": 21,
   "id": "c13fb5dd",
   "metadata": {},
   "outputs": [],
   "source": [
    "corelation = sample.corr()"
   ]
  },
  {
   "cell_type": "code",
   "execution_count": 22,
   "id": "9c2b0a25",
   "metadata": {},
   "outputs": [
    {
     "data": {
      "text/plain": [
       "<AxesSubplot:>"
      ]
     },
     "execution_count": 22,
     "metadata": {},
     "output_type": "execute_result"
    },
    {
     "data": {
      "image/png": "[encoded data removed]",
      "text/plain": [
       "<Figure size 432x288 with 2 Axes>"
      ]
     },
     "metadata": {
      "needs_background": "light"
     },
     "output_type": "display_data"
    }
   ],
   "source": [
    "sns.heatmap(sample.corr())"
   ]
  },
  {
   "cell_type": "markdown",
   "id": "93a026cc",
   "metadata": {},
   "source": [
    "***hope to do more co-relationship analyze in feature selection part***"
   ]
  },
  {
   "cell_type": "code",
   "execution_count": 23,
   "id": "86928d2a",
   "metadata": {},
   "outputs": [
    {
     "data": {
      "text/html": [
       "<div>\n",
       "<style scoped>\n",
       "    .dataframe tbody tr th:only-of-type {\n",
       "        vertical-align: middle;\n",
       "    }\n",
       "\n",
       "    .dataframe tbody tr th {\n",
       "        vertical-align: top;\n",
       "    }\n",
       "\n",
       "    .dataframe thead th {\n",
       "        text-align: right;\n",
       "    }\n",
       "</style>\n",
       "<table border=\"1\" class=\"dataframe\">\n",
       "  <thead>\n",
       "    <tr style=\"text-align: right;\">\n",
       "      <th></th>\n",
       "      <th>IS_DEFAULT</th>\n",
       "      <th>NET_RENTAL</th>\n",
       "      <th>NET_RENTAL_NEW</th>\n",
       "      <th>NR_PMT</th>\n",
       "      <th>NO_OF_RENTAL</th>\n",
       "      <th>YOM</th>\n",
       "      <th>FINANCE_AMOUNT</th>\n",
       "      <th>CUSTOMER_VALUATION</th>\n",
       "      <th>EFFECTIVE_RATE</th>\n",
       "      <th>AGE</th>\n",
       "      <th>...</th>\n",
       "      <th>EXPENSE</th>\n",
       "      <th>Gen_n</th>\n",
       "      <th>PName</th>\n",
       "      <th>PCat</th>\n",
       "      <th>AType</th>\n",
       "      <th>Make</th>\n",
       "      <th>Reg</th>\n",
       "      <th>DName</th>\n",
       "      <th>City</th>\n",
       "      <th>MStatus</th>\n",
       "    </tr>\n",
       "  </thead>\n",
       "  <tbody>\n",
       "    <tr>\n",
       "      <th>count</th>\n",
       "      <td>81018.000000</td>\n",
       "      <td>8.101800e+04</td>\n",
       "      <td>81018.000000</td>\n",
       "      <td>81018.000000</td>\n",
       "      <td>81018.000000</td>\n",
       "      <td>81018.000000</td>\n",
       "      <td>8.101800e+04</td>\n",
       "      <td>8.079600e+04</td>\n",
       "      <td>81018.000000</td>\n",
       "      <td>80997.000000</td>\n",
       "      <td>...</td>\n",
       "      <td>81018.000000</td>\n",
       "      <td>81018.000000</td>\n",
       "      <td>81018.000000</td>\n",
       "      <td>81018.000000</td>\n",
       "      <td>81018.000000</td>\n",
       "      <td>81018.000000</td>\n",
       "      <td>81018.000000</td>\n",
       "      <td>81018.000000</td>\n",
       "      <td>81018.000000</td>\n",
       "      <td>81018.000000</td>\n",
       "    </tr>\n",
       "    <tr>\n",
       "      <th>mean</th>\n",
       "      <td>0.081686</td>\n",
       "      <td>1.413739e+04</td>\n",
       "      <td>13134.504283</td>\n",
       "      <td>-13134.489441</td>\n",
       "      <td>36.668543</td>\n",
       "      <td>1907.789022</td>\n",
       "      <td>3.506321e+05</td>\n",
       "      <td>4.917697e+05</td>\n",
       "      <td>28.912675</td>\n",
       "      <td>40.388422</td>\n",
       "      <td>...</td>\n",
       "      <td>26672.391914</td>\n",
       "      <td>0.758066</td>\n",
       "      <td>7.987682</td>\n",
       "      <td>1.859797</td>\n",
       "      <td>11.301032</td>\n",
       "      <td>101.966365</td>\n",
       "      <td>0.340060</td>\n",
       "      <td>9.542238</td>\n",
       "      <td>43.158323</td>\n",
       "      <td>1.793663</td>\n",
       "    </tr>\n",
       "    <tr>\n",
       "      <th>std</th>\n",
       "      <td>0.273887</td>\n",
       "      <td>2.509263e+04</td>\n",
       "      <td>13218.771010</td>\n",
       "      <td>13218.773550</td>\n",
       "      <td>10.770259</td>\n",
       "      <td>438.717473</td>\n",
       "      <td>4.617603e+05</td>\n",
       "      <td>6.497186e+05</td>\n",
       "      <td>6.216106</td>\n",
       "      <td>10.620025</td>\n",
       "      <td>...</td>\n",
       "      <td>30978.927282</td>\n",
       "      <td>0.436535</td>\n",
       "      <td>2.923389</td>\n",
       "      <td>0.396555</td>\n",
       "      <td>3.535336</td>\n",
       "      <td>81.503310</td>\n",
       "      <td>0.473732</td>\n",
       "      <td>7.267197</td>\n",
       "      <td>24.783009</td>\n",
       "      <td>0.983539</td>\n",
       "    </tr>\n",
       "    <tr>\n",
       "      <th>min</th>\n",
       "      <td>0.000000</td>\n",
       "      <td>2.000000e-02</td>\n",
       "      <td>1357.000000</td>\n",
       "      <td>-550079.957437</td>\n",
       "      <td>6.000000</td>\n",
       "      <td>-201.000000</td>\n",
       "      <td>9.729130e+03</td>\n",
       "      <td>0.000000e+00</td>\n",
       "      <td>12.000000</td>\n",
       "      <td>5.000000</td>\n",
       "      <td>...</td>\n",
       "      <td>8000.000000</td>\n",
       "      <td>0.000000</td>\n",
       "      <td>0.000000</td>\n",
       "      <td>0.000000</td>\n",
       "      <td>0.000000</td>\n",
       "      <td>0.000000</td>\n",
       "      <td>0.000000</td>\n",
       "      <td>0.000000</td>\n",
       "      <td>0.000000</td>\n",
       "      <td>0.000000</td>\n",
       "    </tr>\n",
       "    <tr>\n",
       "      <th>25%</th>\n",
       "      <td>0.000000</td>\n",
       "      <td>6.990000e+03</td>\n",
       "      <td>7061.000000</td>\n",
       "      <td>-13251.141729</td>\n",
       "      <td>36.000000</td>\n",
       "      <td>2005.000000</td>\n",
       "      <td>1.522500e+05</td>\n",
       "      <td>2.099900e+05</td>\n",
       "      <td>26.000000</td>\n",
       "      <td>32.000000</td>\n",
       "      <td>...</td>\n",
       "      <td>10500.000000</td>\n",
       "      <td>1.000000</td>\n",
       "      <td>7.000000</td>\n",
       "      <td>2.000000</td>\n",
       "      <td>11.000000</td>\n",
       "      <td>15.000000</td>\n",
       "      <td>0.000000</td>\n",
       "      <td>4.000000</td>\n",
       "      <td>22.000000</td>\n",
       "      <td>1.000000</td>\n",
       "    </tr>\n",
       "    <tr>\n",
       "      <th>50%</th>\n",
       "      <td>0.000000</td>\n",
       "      <td>9.401000e+03</td>\n",
       "      <td>9456.000000</td>\n",
       "      <td>-9455.541511</td>\n",
       "      <td>36.000000</td>\n",
       "      <td>2013.000000</td>\n",
       "      <td>2.049900e+05</td>\n",
       "      <td>2.800000e+05</td>\n",
       "      <td>30.000000</td>\n",
       "      <td>39.000000</td>\n",
       "      <td>...</td>\n",
       "      <td>15800.000000</td>\n",
       "      <td>1.000000</td>\n",
       "      <td>9.000000</td>\n",
       "      <td>2.000000</td>\n",
       "      <td>11.000000</td>\n",
       "      <td>87.000000</td>\n",
       "      <td>0.000000</td>\n",
       "      <td>8.000000</td>\n",
       "      <td>41.000000</td>\n",
       "      <td>1.000000</td>\n",
       "    </tr>\n",
       "    <tr>\n",
       "      <th>75%</th>\n",
       "      <td>0.000000</td>\n",
       "      <td>1.352700e+04</td>\n",
       "      <td>13251.000000</td>\n",
       "      <td>-7061.022986</td>\n",
       "      <td>42.000000</td>\n",
       "      <td>2015.000000</td>\n",
       "      <td>3.250000e+05</td>\n",
       "      <td>4.600000e+05</td>\n",
       "      <td>32.010000</td>\n",
       "      <td>47.000000</td>\n",
       "      <td>...</td>\n",
       "      <td>30000.000000</td>\n",
       "      <td>1.000000</td>\n",
       "      <td>9.000000</td>\n",
       "      <td>2.000000</td>\n",
       "      <td>14.000000</td>\n",
       "      <td>180.000000</td>\n",
       "      <td>1.000000</td>\n",
       "      <td>16.000000</td>\n",
       "      <td>63.000000</td>\n",
       "      <td>3.000000</td>\n",
       "    </tr>\n",
       "    <tr>\n",
       "      <th>max</th>\n",
       "      <td>1.000000</td>\n",
       "      <td>2.229216e+06</td>\n",
       "      <td>550080.000000</td>\n",
       "      <td>-1357.027366</td>\n",
       "      <td>86.000000</td>\n",
       "      <td>6580.000000</td>\n",
       "      <td>1.160000e+07</td>\n",
       "      <td>1.600000e+07</td>\n",
       "      <td>49.990000</td>\n",
       "      <td>85.000000</td>\n",
       "      <td>...</td>\n",
       "      <td>400000.000000</td>\n",
       "      <td>2.000000</td>\n",
       "      <td>13.000000</td>\n",
       "      <td>3.000000</td>\n",
       "      <td>19.000000</td>\n",
       "      <td>246.000000</td>\n",
       "      <td>1.000000</td>\n",
       "      <td>23.000000</td>\n",
       "      <td>92.000000</td>\n",
       "      <td>5.000000</td>\n",
       "    </tr>\n",
       "  </tbody>\n",
       "</table>\n",
       "<p>8 rows × 21 columns</p>\n",
       "</div>"
      ],
      "text/plain": [
       "         IS_DEFAULT    NET_RENTAL  NET_RENTAL_NEW         NR_PMT  \\\n",
       "count  81018.000000  8.101800e+04    81018.000000   81018.000000   \n",
       "mean       0.081686  1.413739e+04    13134.504283  -13134.489441   \n",
       "std        0.273887  2.509263e+04    13218.771010   13218.773550   \n",
       "min        0.000000  2.000000e-02     1357.000000 -550079.957437   \n",
       "25%        0.000000  6.990000e+03     7061.000000  -13251.141729   \n",
       "50%        0.000000  9.401000e+03     9456.000000   -9455.541511   \n",
       "75%        0.000000  1.352700e+04    13251.000000   -7061.022986   \n",
       "max        1.000000  2.229216e+06   550080.000000   -1357.027366   \n",
       "\n",
       "       NO_OF_RENTAL           YOM  FINANCE_AMOUNT  CUSTOMER_VALUATION  \\\n",
       "count  81018.000000  81018.000000    8.101800e+04        8.079600e+04   \n",
       "mean      36.668543   1907.789022    3.506321e+05        4.917697e+05   \n",
       "std       10.770259    438.717473    4.617603e+05        6.497186e+05   \n",
       "min        6.000000   -201.000000    9.729130e+03        0.000000e+00   \n",
       "25%       36.000000   2005.000000    1.522500e+05        2.099900e+05   \n",
       "50%       36.000000   2013.000000    2.049900e+05        2.800000e+05   \n",
       "75%       42.000000   2015.000000    3.250000e+05        4.600000e+05   \n",
       "max       86.000000   6580.000000    1.160000e+07        1.600000e+07   \n",
       "\n",
       "       EFFECTIVE_RATE           AGE  ...        EXPENSE         Gen_n  \\\n",
       "count    81018.000000  80997.000000  ...   81018.000000  81018.000000   \n",
       "mean        28.912675     40.388422  ...   26672.391914      0.758066   \n",
       "std          6.216106     10.620025  ...   30978.927282      0.436535   \n",
       "min         12.000000      5.000000  ...    8000.000000      0.000000   \n",
       "25%         26.000000     32.000000  ...   10500.000000      1.000000   \n",
       "50%         30.000000     39.000000  ...   15800.000000      1.000000   \n",
       "75%         32.010000     47.000000  ...   30000.000000      1.000000   \n",
       "max         49.990000     85.000000  ...  400000.000000      2.000000   \n",
       "\n",
       "              PName          PCat         AType          Make           Reg  \\\n",
       "count  81018.000000  81018.000000  81018.000000  81018.000000  81018.000000   \n",
       "mean       7.987682      1.859797     11.301032    101.966365      0.340060   \n",
       "std        2.923389      0.396555      3.535336     81.503310      0.473732   \n",
       "min        0.000000      0.000000      0.000000      0.000000      0.000000   \n",
       "25%        7.000000      2.000000     11.000000     15.000000      0.000000   \n",
       "50%        9.000000      2.000000     11.000000     87.000000      0.000000   \n",
       "75%        9.000000      2.000000     14.000000    180.000000      1.000000   \n",
       "max       13.000000      3.000000     19.000000    246.000000      1.000000   \n",
       "\n",
       "              DName          City       MStatus  \n",
       "count  81018.000000  81018.000000  81018.000000  \n",
       "mean       9.542238     43.158323      1.793663  \n",
       "std        7.267197     24.783009      0.983539  \n",
       "min        0.000000      0.000000      0.000000  \n",
       "25%        4.000000     22.000000      1.000000  \n",
       "50%        8.000000     41.000000      1.000000  \n",
       "75%       16.000000     63.000000      3.000000  \n",
       "max       23.000000     92.000000      5.000000  \n",
       "\n",
       "[8 rows x 21 columns]"
      ]
     },
     "execution_count": 23,
     "metadata": {},
     "output_type": "execute_result"
    }
   ],
   "source": [
    "sample.describe()"
   ]
  },
  {
   "cell_type": "code",
   "execution_count": 24,
   "id": "d869055d",
   "metadata": {},
   "outputs": [
    {
     "data": {
      "text/plain": [
       "Index(['IS_DEFAULT', 'NET_RENTAL', 'NET_RENTAL_NEW', 'NR_PMT', 'NO_OF_RENTAL',\n",
       "       'YOM', 'MODEL_NAME', 'REGISTRATION_NO', 'PROVINCE', 'FINANCE_AMOUNT',\n",
       "       'CUSTOMER_VALUATION', 'EFFECTIVE_RATE', 'AGE', 'INCOME', 'EXPENSE',\n",
       "       'Gen_n', 'PName', 'PCat', 'AType', 'Make', 'Reg', 'DName', 'City',\n",
       "       'MStatus'],\n",
       "      dtype='object')"
      ]
     },
     "execution_count": 24,
     "metadata": {},
     "output_type": "execute_result"
    }
   ],
   "source": [
    "sample.columns"
   ]
  },
  {
   "cell_type": "code",
   "execution_count": 25,
   "id": "312afbd1",
   "metadata": {},
   "outputs": [
    {
     "data": {
      "text/plain": [
       "<AxesSubplot:xlabel='INCOME', ylabel='Density'>"
      ]
     },
     "execution_count": 25,
     "metadata": {},
     "output_type": "execute_result"
    },
    {
     "data": {
      "image/png": "[encoded data removed]",
      "text/plain": [
       "<Figure size 432x288 with 1 Axes>"
      ]
     },
     "metadata": {
      "needs_background": "light"
     },
     "output_type": "display_data"
    }
   ],
   "source": [
    "sns.rugplot(sample['INCOME'])\n",
    "sns.kdeplot(sample['INCOME'])"
   ]
  },
  {
   "cell_type": "code",
   "execution_count": 26,
   "id": "451bd49a",
   "metadata": {},
   "outputs": [
    {
     "data": {
      "text/plain": [
       "<AxesSubplot:xlabel='AGE', ylabel='Density'>"
      ]
     },
     "execution_count": 26,
     "metadata": {},
     "output_type": "execute_result"
    },
    {
     "data": {
      "image/png": "[encoded data removed]",
      "text/plain": [
       "<Figure size 432x288 with 1 Axes>"
      ]
     },
     "metadata": {
      "needs_background": "light"
     },
     "output_type": "display_data"
    }
   ],
   "source": [
    "sns.rugplot(sample['AGE'])\n",
    "sns.kdeplot(sample['AGE'])"
   ]
  },
  {
   "cell_type": "code",
   "execution_count": 27,
   "id": "3665e967",
   "metadata": {},
   "outputs": [
    {
     "data": {
      "text/plain": [
       "<AxesSubplot:xlabel='YOM', ylabel='Density'>"
      ]
     },
     "execution_count": 27,
     "metadata": {},
     "output_type": "execute_result"
    },
    {
     "data": {
      "image/png": "[encoded data removed]",
      "text/plain": [
       "<Figure size 432x288 with 1 Axes>"
      ]
     },
     "metadata": {
      "needs_background": "light"
     },
     "output_type": "display_data"
    }
   ],
   "source": [
    "sns.rugplot(sample['YOM'])\n",
    "sns.kdeplot(sample['YOM'])"
   ]
  },
  {
   "cell_type": "code",
   "execution_count": 28,
   "id": "85b3f90a",
   "metadata": {},
   "outputs": [
    {
     "data": {
      "text/plain": [
       "<AxesSubplot:xlabel='IS_DEFAULT', ylabel='count'>"
      ]
     },
     "execution_count": 28,
     "metadata": {},
     "output_type": "execute_result"
    },
    {
     "data": {
      "image/png": "[encoded data removed]",
      "text/plain": [
       "<Figure size 432x288 with 1 Axes>"
      ]
     },
     "metadata": {},
     "output_type": "display_data"
    }
   ],
   "source": [
    "sns.set_style('whitegrid')\n",
    "sns.countplot(x='IS_DEFAULT',data=sample)"
   ]
  },
  {
   "cell_type": "markdown",
   "id": "a4b33f93",
   "metadata": {},
   "source": [
    "***This is not a balanced dataset***"
   ]
  },
  {
   "cell_type": "code",
   "execution_count": 29,
   "id": "d631d1a3",
   "metadata": {},
   "outputs": [
    {
     "data": {
      "text/plain": [
       "<AxesSubplot:xlabel='IS_DEFAULT', ylabel='count'>"
      ]
     },
     "execution_count": 29,
     "metadata": {},
     "output_type": "execute_result"
    },
    {
     "data": {
      "image/png": "[encoded data removed]",
      "text/plain": [
       "<Figure size 432x288 with 1 Axes>"
      ]
     },
     "metadata": {},
     "output_type": "display_data"
    }
   ],
   "source": [
    "sns.set_style('whitegrid')\n",
    "sns.countplot(x='IS_DEFAULT',hue='GENDER',data=df,palette='RdBu_r')"
   ]
  },
  {
   "cell_type": "code",
   "execution_count": 30,
   "id": "a4890a58",
   "metadata": {},
   "outputs": [
    {
     "data": {
      "text/plain": [
       "<AxesSubplot:xlabel='IS_DEFAULT', ylabel='count'>"
      ]
     },
     "execution_count": 30,
     "metadata": {},
     "output_type": "execute_result"
    },
    {
     "data": {
      "image/png": "[encoded data removed]",
      "text/plain": [
       "<Figure size 432x288 with 1 Axes>"
      ]
     },
     "metadata": {},
     "output_type": "display_data"
    }
   ],
   "source": [
    "sns.set_style('whitegrid')\n",
    "sns.countplot(x='IS_DEFAULT',hue='PRODUCT_CATEGORY',data=df,palette='RdBu_r')"
   ]
  },
  {
   "cell_type": "code",
   "execution_count": 31,
   "id": "148b1031",
   "metadata": {},
   "outputs": [
    {
     "data": {
      "text/plain": [
       "<AxesSubplot:xlabel='IS_DEFAULT', ylabel='count'>"
      ]
     },
     "execution_count": 31,
     "metadata": {},
     "output_type": "execute_result"
    },
    {
     "data": {
      "image/png": "[encoded data removed]",
      "text/plain": [
       "<Figure size 432x288 with 1 Axes>"
      ]
     },
     "metadata": {},
     "output_type": "display_data"
    }
   ],
   "source": [
    "sns.set_style('whitegrid')\n",
    "sns.countplot(x='IS_DEFAULT',hue='MARITAL_STATUS',data=df,palette='rainbow')"
   ]
  },
  {
   "cell_type": "markdown",
   "id": "9548b9b8",
   "metadata": {},
   "source": [
    "### Missing values and outliers handling"
   ]
  },
  {
   "cell_type": "code",
   "execution_count": 32,
   "id": "a0fe5c5a",
   "metadata": {},
   "outputs": [
    {
     "data": {
      "text/plain": [
       "<AxesSubplot:xlabel='IS_DEFAULT', ylabel='AGE'>"
      ]
     },
     "execution_count": 32,
     "metadata": {},
     "output_type": "execute_result"
    },
    {
     "data": {
      "image/png": "[encoded data removed]",
      "text/plain": [
       "<Figure size 864x504 with 1 Axes>"
      ]
     },
     "metadata": {},
     "output_type": "display_data"
    }
   ],
   "source": [
    "plt.figure(figsize=(12, 7))\n",
    "sns.boxplot(x='IS_DEFAULT',y='AGE',data=df,palette='winter')"
   ]
  },
  {
   "cell_type": "code",
   "execution_count": 33,
   "id": "55e3bc25",
   "metadata": {},
   "outputs": [],
   "source": [
    "mean = sample['AGE'].mean()"
   ]
  },
  {
   "cell_type": "code",
   "execution_count": 34,
   "id": "4913b5fc",
   "metadata": {},
   "outputs": [],
   "source": [
    "Q1 = sample['AGE'].quantile(0.25)\n",
    "Q3 = sample['AGE'].quantile(0.75)"
   ]
  },
  {
   "cell_type": "code",
   "execution_count": 35,
   "id": "6a99a909",
   "metadata": {},
   "outputs": [],
   "source": [
    "IQR = Q3 - Q1"
   ]
  },
  {
   "cell_type": "code",
   "execution_count": 36,
   "id": "5d61b8a3",
   "metadata": {},
   "outputs": [],
   "source": [
    "lower_extreme = Q1 - 1.5*IQR\n",
    "upper_extreme = Q3 + 1.5*IQR"
   ]
  },
  {
   "cell_type": "code",
   "execution_count": 37,
   "id": "a3293435",
   "metadata": {},
   "outputs": [],
   "source": [
    "def impute_age(age):\n",
    "    AGE = age\n",
    "    \n",
    "    if pd.isnull(AGE) :\n",
    "        return mean\n",
    "        \n",
    "    elif AGE <= lower_extreme:\n",
    "        return mean\n",
    "    \n",
    "    elif AGE >= upper_extreme:\n",
    "        return mean\n",
    "\n",
    "    else:\n",
    "        return AGE"
   ]
  },
  {
   "cell_type": "code",
   "execution_count": 38,
   "id": "444ee18e",
   "metadata": {},
   "outputs": [],
   "source": [
    "sample['AGE'] = sample['AGE'].apply(impute_age)"
   ]
  },
  {
   "cell_type": "markdown",
   "id": "e0278624",
   "metadata": {},
   "source": [
    "***outliers of age are fill with mean of the age***"
   ]
  },
  {
   "cell_type": "code",
   "execution_count": 39,
   "id": "8edf5593",
   "metadata": {},
   "outputs": [
    {
     "data": {
      "text/plain": [
       "Index(['IS_DEFAULT', 'NET_RENTAL', 'NET_RENTAL_NEW', 'NR_PMT', 'NO_OF_RENTAL',\n",
       "       'YOM', 'MODEL_NAME', 'REGISTRATION_NO', 'PROVINCE', 'FINANCE_AMOUNT',\n",
       "       'CUSTOMER_VALUATION', 'EFFECTIVE_RATE', 'AGE', 'INCOME', 'EXPENSE',\n",
       "       'Gen_n', 'PName', 'PCat', 'AType', 'Make', 'Reg', 'DName', 'City',\n",
       "       'MStatus'],\n",
       "      dtype='object')"
      ]
     },
     "execution_count": 39,
     "metadata": {},
     "output_type": "execute_result"
    }
   ],
   "source": [
    "sample.columns"
   ]
  },
  {
   "cell_type": "code",
   "execution_count": 40,
   "id": "53455d8c",
   "metadata": {},
   "outputs": [
    {
     "data": {
      "text/plain": [
       "IS_DEFAULT              0\n",
       "NET_RENTAL              0\n",
       "NET_RENTAL_NEW          0\n",
       "NR_PMT                  0\n",
       "NO_OF_RENTAL            0\n",
       "YOM                     0\n",
       "MODEL_NAME              8\n",
       "REGISTRATION_NO       470\n",
       "PROVINCE                0\n",
       "FINANCE_AMOUNT          0\n",
       "CUSTOMER_VALUATION    222\n",
       "EFFECTIVE_RATE          0\n",
       "AGE                     0\n",
       "INCOME                  0\n",
       "EXPENSE                 0\n",
       "Gen_n                   0\n",
       "PName                   0\n",
       "PCat                    0\n",
       "AType                   0\n",
       "Make                    0\n",
       "Reg                     0\n",
       "DName                   0\n",
       "City                    0\n",
       "MStatus                 0\n",
       "dtype: int64"
      ]
     },
     "execution_count": 40,
     "metadata": {},
     "output_type": "execute_result"
    }
   ],
   "source": [
    "sample.isnull().sum()"
   ]
  },
  {
   "cell_type": "code",
   "execution_count": 41,
   "id": "75673284",
   "metadata": {},
   "outputs": [
    {
     "data": {
      "text/plain": [
       "<AxesSubplot:>"
      ]
     },
     "execution_count": 41,
     "metadata": {},
     "output_type": "execute_result"
    },
    {
     "data": {
      "image/png": "[encoded data removed]",
      "text/plain": [
       "<Figure size 432x288 with 1 Axes>"
      ]
     },
     "metadata": {},
     "output_type": "display_data"
    }
   ],
   "source": [
    "sns.heatmap(sample.isnull(),yticklabels=False,cbar=False,cmap='viridis')"
   ]
  },
  {
   "cell_type": "code",
   "execution_count": 42,
   "id": "5ccc3d42",
   "metadata": {},
   "outputs": [
    {
     "data": {
      "text/plain": [
       "<AxesSubplot:xlabel='AGE', ylabel='Density'>"
      ]
     },
     "execution_count": 42,
     "metadata": {},
     "output_type": "execute_result"
    },
    {
     "data": {
      "image/png": "[encoded data removed]",
      "text/plain": [
       "<Figure size 432x288 with 1 Axes>"
      ]
     },
     "metadata": {},
     "output_type": "display_data"
    }
   ],
   "source": [
    "sns.rugplot(sample['AGE'])\n",
    "sns.kdeplot(sample['AGE'])"
   ]
  },
  {
   "cell_type": "code",
   "execution_count": 43,
   "id": "47bf0c28",
   "metadata": {},
   "outputs": [],
   "source": [
    "def update_age(age):\n",
    "    AGE = age\n",
    "    \n",
    "    if AGE <= 20 :\n",
    "        return mean\n",
    "        \n",
    "    else:\n",
    "        return AGE"
   ]
  },
  {
   "cell_type": "code",
   "execution_count": 44,
   "id": "4a6e1fb5",
   "metadata": {},
   "outputs": [],
   "source": [
    "sample['AGE'] = sample['AGE'].apply(update_age)"
   ]
  },
  {
   "cell_type": "code",
   "execution_count": 45,
   "id": "c512e1b9",
   "metadata": {},
   "outputs": [
    {
     "data": {
      "text/plain": [
       "<AxesSubplot:xlabel='AGE', ylabel='Density'>"
      ]
     },
     "execution_count": 45,
     "metadata": {},
     "output_type": "execute_result"
    },
    {
     "data": {
      "image/png": "[encoded data removed]",
      "text/plain": [
       "<Figure size 432x288 with 1 Axes>"
      ]
     },
     "metadata": {},
     "output_type": "display_data"
    }
   ],
   "source": [
    "sns.rugplot(sample['AGE'])\n",
    "sns.kdeplot(sample['AGE'])"
   ]
  },
  {
   "cell_type": "markdown",
   "id": "917c5623",
   "metadata": {},
   "source": [
    "## Feature Selection- With Correlation"
   ]
  },
  {
   "cell_type": "code",
   "execution_count": 46,
   "id": "0a5fadc6",
   "metadata": {},
   "outputs": [
    {
     "data": {
      "text/plain": [
       "Index(['IS_DEFAULT', 'NET_RENTAL', 'NET_RENTAL_NEW', 'NR_PMT', 'NO_OF_RENTAL',\n",
       "       'YOM', 'MODEL_NAME', 'REGISTRATION_NO', 'PROVINCE', 'FINANCE_AMOUNT',\n",
       "       'CUSTOMER_VALUATION', 'EFFECTIVE_RATE', 'AGE', 'INCOME', 'EXPENSE',\n",
       "       'Gen_n', 'PName', 'PCat', 'AType', 'Make', 'Reg', 'DName', 'City',\n",
       "       'MStatus'],\n",
       "      dtype='object')"
      ]
     },
     "execution_count": 46,
     "metadata": {},
     "output_type": "execute_result"
    }
   ],
   "source": [
    "sample.columns"
   ]
  },
  {
   "cell_type": "code",
   "execution_count": 47,
   "id": "941d857c",
   "metadata": {},
   "outputs": [
    {
     "data": {
      "text/plain": [
       "Text(0.5, 1.0, 'sample.corr()')"
      ]
     },
     "execution_count": 47,
     "metadata": {},
     "output_type": "execute_result"
    },
    {
     "data": {
      "image/png": "[encoded data removed]",
      "text/plain": [
       "<Figure size 1152x504 with 2 Axes>"
      ]
     },
     "metadata": {},
     "output_type": "display_data"
    }
   ],
   "source": [
    "import matplotlib.pyplot as plt\n",
    "plt.figure(figsize = (16,7))\n",
    "sns.heatmap(sample.corr(),cmap='coolwarm', annot=True)\n",
    "plt.title('sample.corr()')"
   ]
  },
  {
   "cell_type": "code",
   "execution_count": 48,
   "id": "18f53f58",
   "metadata": {},
   "outputs": [],
   "source": [
    "def correlation(dataset, threshold):\n",
    "    col_corr = set()  # Set of all the names of correlated columns\n",
    "    corr_matrix = dataset.corr()\n",
    "    for i in range(len(corr_matrix.columns)):\n",
    "        for j in range(i):\n",
    "            if abs(corr_matrix.iloc[i, j]) > threshold: # we are interested in absolute coeff value\n",
    "                colname = corr_matrix.columns[i]  # getting the name of column\n",
    "                col_corr.add(colname)\n",
    "    return col_corr"
   ]
  },
  {
   "cell_type": "code",
   "execution_count": 49,
   "id": "8e1a44bb",
   "metadata": {},
   "outputs": [
    {
     "data": {
      "text/plain": [
       "4"
      ]
     },
     "execution_count": 49,
     "metadata": {},
     "output_type": "execute_result"
    }
   ],
   "source": [
    "corr_features = correlation(sample, 0.7)\n",
    "len(set(corr_features))"
   ]
  },
  {
   "cell_type": "code",
   "execution_count": 50,
   "id": "379de5f1",
   "metadata": {},
   "outputs": [
    {
     "data": {
      "text/plain": [
       "{'CUSTOMER_VALUATION', 'EXPENSE', 'FINANCE_AMOUNT', 'NR_PMT'}"
      ]
     },
     "execution_count": 50,
     "metadata": {},
     "output_type": "execute_result"
    }
   ],
   "source": [
    "corr_features"
   ]
  },
  {
   "cell_type": "markdown",
   "id": "90333562",
   "metadata": {},
   "source": [
    "### There is a corelation betweeen customer valuation and financial amount. Therefore we can drop one of them. "
   ]
  },
  {
   "cell_type": "markdown",
   "id": "3b792937",
   "metadata": {},
   "source": [
    "## Feature Selection-Information gain - mutual information In Classification Problem Statements"
   ]
  },
  {
   "cell_type": "code",
   "execution_count": 51,
   "id": "1300a4db",
   "metadata": {},
   "outputs": [
    {
     "name": "stdout",
     "output_type": "stream",
     "text": [
      "<class 'pandas.core.frame.DataFrame'>\n",
      "RangeIndex: 81018 entries, 0 to 81017\n",
      "Data columns (total 24 columns):\n",
      " #   Column              Non-Null Count  Dtype  \n",
      "---  ------              --------------  -----  \n",
      " 0   IS_DEFAULT          81018 non-null  int64  \n",
      " 1   NET_RENTAL          81018 non-null  float64\n",
      " 2   NET_RENTAL_NEW      81018 non-null  int64  \n",
      " 3   NR_PMT              81018 non-null  float64\n",
      " 4   NO_OF_RENTAL        81018 non-null  int64  \n",
      " 5   YOM                 81018 non-null  int64  \n",
      " 6   MODEL_NAME          81010 non-null  object \n",
      " 7   REGISTRATION_NO     80548 non-null  object \n",
      " 8   PROVINCE            81018 non-null  object \n",
      " 9   FINANCE_AMOUNT      81018 non-null  float64\n",
      " 10  CUSTOMER_VALUATION  80796 non-null  float64\n",
      " 11  EFFECTIVE_RATE      81018 non-null  float64\n",
      " 12  AGE                 81018 non-null  float64\n",
      " 13  INCOME              81018 non-null  float64\n",
      " 14  EXPENSE             81018 non-null  float64\n",
      " 15  Gen_n               81018 non-null  int32  \n",
      " 16  PName               81018 non-null  int32  \n",
      " 17  PCat                81018 non-null  int32  \n",
      " 18  AType               81018 non-null  int32  \n",
      " 19  Make                81018 non-null  int32  \n",
      " 20  Reg                 81018 non-null  int32  \n",
      " 21  DName               81018 non-null  int32  \n",
      " 22  City                81018 non-null  int32  \n",
      " 23  MStatus             81018 non-null  int32  \n",
      "dtypes: float64(8), int32(9), int64(4), object(3)\n",
      "memory usage: 12.1+ MB\n"
     ]
    }
   ],
   "source": [
    "sample.info()"
   ]
  },
  {
   "cell_type": "code",
   "execution_count": 57,
   "id": "682fa5f7",
   "metadata": {},
   "outputs": [
    {
     "data": {
      "text/html": [
       "<div>\n",
       "<style scoped>\n",
       "    .dataframe tbody tr th:only-of-type {\n",
       "        vertical-align: middle;\n",
       "    }\n",
       "\n",
       "    .dataframe tbody tr th {\n",
       "        vertical-align: top;\n",
       "    }\n",
       "\n",
       "    .dataframe thead th {\n",
       "        text-align: right;\n",
       "    }\n",
       "</style>\n",
       "<table border=\"1\" class=\"dataframe\">\n",
       "  <thead>\n",
       "    <tr style=\"text-align: right;\">\n",
       "      <th></th>\n",
       "      <th>IS_DEFAULT</th>\n",
       "      <th>NET_RENTAL_NEW</th>\n",
       "      <th>NO_OF_RENTAL</th>\n",
       "      <th>YOM</th>\n",
       "      <th>Gen_n</th>\n",
       "      <th>PName</th>\n",
       "      <th>PCat</th>\n",
       "      <th>AType</th>\n",
       "      <th>Make</th>\n",
       "      <th>Reg</th>\n",
       "      <th>DName</th>\n",
       "      <th>City</th>\n",
       "      <th>MStatus</th>\n",
       "    </tr>\n",
       "  </thead>\n",
       "  <tbody>\n",
       "    <tr>\n",
       "      <th>0</th>\n",
       "      <td>0</td>\n",
       "      <td>11995</td>\n",
       "      <td>36</td>\n",
       "      <td>1979</td>\n",
       "      <td>1</td>\n",
       "      <td>2</td>\n",
       "      <td>1</td>\n",
       "      <td>3</td>\n",
       "      <td>150</td>\n",
       "      <td>1</td>\n",
       "      <td>21</td>\n",
       "      <td>11</td>\n",
       "      <td>1</td>\n",
       "    </tr>\n",
       "    <tr>\n",
       "      <th>1</th>\n",
       "      <td>1</td>\n",
       "      <td>13070</td>\n",
       "      <td>48</td>\n",
       "      <td>1985</td>\n",
       "      <td>1</td>\n",
       "      <td>2</td>\n",
       "      <td>1</td>\n",
       "      <td>3</td>\n",
       "      <td>150</td>\n",
       "      <td>1</td>\n",
       "      <td>21</td>\n",
       "      <td>11</td>\n",
       "      <td>1</td>\n",
       "    </tr>\n",
       "    <tr>\n",
       "      <th>2</th>\n",
       "      <td>0</td>\n",
       "      <td>12411</td>\n",
       "      <td>36</td>\n",
       "      <td>1984</td>\n",
       "      <td>1</td>\n",
       "      <td>2</td>\n",
       "      <td>1</td>\n",
       "      <td>3</td>\n",
       "      <td>220</td>\n",
       "      <td>1</td>\n",
       "      <td>21</td>\n",
       "      <td>11</td>\n",
       "      <td>3</td>\n",
       "    </tr>\n",
       "    <tr>\n",
       "      <th>3</th>\n",
       "      <td>0</td>\n",
       "      <td>11107</td>\n",
       "      <td>48</td>\n",
       "      <td>1987</td>\n",
       "      <td>1</td>\n",
       "      <td>2</td>\n",
       "      <td>1</td>\n",
       "      <td>3</td>\n",
       "      <td>169</td>\n",
       "      <td>1</td>\n",
       "      <td>21</td>\n",
       "      <td>11</td>\n",
       "      <td>1</td>\n",
       "    </tr>\n",
       "    <tr>\n",
       "      <th>4</th>\n",
       "      <td>0</td>\n",
       "      <td>19169</td>\n",
       "      <td>48</td>\n",
       "      <td>1990</td>\n",
       "      <td>0</td>\n",
       "      <td>2</td>\n",
       "      <td>1</td>\n",
       "      <td>3</td>\n",
       "      <td>169</td>\n",
       "      <td>1</td>\n",
       "      <td>21</td>\n",
       "      <td>11</td>\n",
       "      <td>3</td>\n",
       "    </tr>\n",
       "  </tbody>\n",
       "</table>\n",
       "</div>"
      ],
      "text/plain": [
       "   IS_DEFAULT  NET_RENTAL_NEW  NO_OF_RENTAL   YOM  Gen_n  PName  PCat  AType  \\\n",
       "0           0           11995            36  1979      1      2     1      3   \n",
       "1           1           13070            48  1985      1      2     1      3   \n",
       "2           0           12411            36  1984      1      2     1      3   \n",
       "3           0           11107            48  1987      1      2     1      3   \n",
       "4           0           19169            48  1990      0      2     1      3   \n",
       "\n",
       "   Make  Reg  DName  City  MStatus  \n",
       "0   150    1     21    11        1  \n",
       "1   150    1     21    11        1  \n",
       "2   220    1     21    11        3  \n",
       "3   169    1     21    11        1  \n",
       "4   169    1     21    11        3  "
      ]
     },
     "execution_count": 57,
     "metadata": {},
     "output_type": "execute_result"
    }
   ],
   "source": [
    "sample2 = sample[['IS_DEFAULT','NET_RENTAL_NEW','NO_OF_RENTAL','YOM',#'FINANCE_AMOUNT','CUSTOMER_VALUATION','EFFECTIVE_RATE','AGE',\n",
    "                 #'INCOME','EXPENSE',\n",
    "                  'Gen_n','PName','PCat','AType','Make','Reg','DName','City','MStatus']]\n",
    "sample2.head()"
   ]
  },
  {
   "cell_type": "code",
   "execution_count": 58,
   "id": "cfd288f2",
   "metadata": {},
   "outputs": [
    {
     "name": "stdout",
     "output_type": "stream",
     "text": [
      "<class 'pandas.core.frame.DataFrame'>\n",
      "RangeIndex: 81018 entries, 0 to 81017\n",
      "Data columns (total 13 columns):\n",
      " #   Column          Non-Null Count  Dtype\n",
      "---  ------          --------------  -----\n",
      " 0   IS_DEFAULT      81018 non-null  int64\n",
      " 1   NET_RENTAL_NEW  81018 non-null  int64\n",
      " 2   NO_OF_RENTAL    81018 non-null  int64\n",
      " 3   YOM             81018 non-null  int64\n",
      " 4   Gen_n           81018 non-null  int32\n",
      " 5   PName           81018 non-null  int32\n",
      " 6   PCat            81018 non-null  int32\n",
      " 7   AType           81018 non-null  int32\n",
      " 8   Make            81018 non-null  int32\n",
      " 9   Reg             81018 non-null  int32\n",
      " 10  DName           81018 non-null  int32\n",
      " 11  City            81018 non-null  int32\n",
      " 12  MStatus         81018 non-null  int32\n",
      "dtypes: int32(9), int64(4)\n",
      "memory usage: 5.3 MB\n"
     ]
    }
   ],
   "source": [
    "sample2.info()"
   ]
  },
  {
   "cell_type": "code",
   "execution_count": 59,
   "id": "ad10992b",
   "metadata": {},
   "outputs": [],
   "source": [
    "#sample2 = sample2.drop(['FINANCE_AMOUNT','CUSTOMER_VALUATION','EFFECTIVE_RATE','AGE','INCOME','EXPENSE'])"
   ]
  },
  {
   "cell_type": "code",
   "execution_count": 60,
   "id": "257ce62c",
   "metadata": {},
   "outputs": [],
   "source": [
    "X2 = sample2.drop('IS_DEFAULT',axis=1)\n",
    "Y2 = sample2['IS_DEFAULT']"
   ]
  },
  {
   "cell_type": "code",
   "execution_count": 61,
   "id": "ee90a3d6",
   "metadata": {},
   "outputs": [
    {
     "data": {
      "text/plain": [
       "array([0.01215604, 0.01689809, 0.00340461, 0.0079784 , 0.01099883,\n",
       "       0.01349595, 0.00869915, 0.01092068, 0.00294325, 0.00409993,\n",
       "       0.00818283, 0.00673578])"
      ]
     },
     "execution_count": 61,
     "metadata": {},
     "output_type": "execute_result"
    }
   ],
   "source": [
    "from sklearn.feature_selection import mutual_info_classif\n",
    "# determine the mutual information\n",
    "mutual_info = mutual_info_classif(X2, Y2)\n",
    "mutual_info"
   ]
  },
  {
   "cell_type": "code",
   "execution_count": 62,
   "id": "97e9a0c6",
   "metadata": {},
   "outputs": [
    {
     "data": {
      "text/plain": [
       "NO_OF_RENTAL      0.016898\n",
       "PCat              0.013496\n",
       "NET_RENTAL_NEW    0.012156\n",
       "PName             0.010999\n",
       "Make              0.010921\n",
       "AType             0.008699\n",
       "City              0.008183\n",
       "Gen_n             0.007978\n",
       "MStatus           0.006736\n",
       "DName             0.004100\n",
       "YOM               0.003405\n",
       "Reg               0.002943\n",
       "dtype: float64"
      ]
     },
     "execution_count": 62,
     "metadata": {},
     "output_type": "execute_result"
    }
   ],
   "source": [
    "mutual_info = pd.Series(mutual_info)\n",
    "mutual_info.index = X2.columns\n",
    "mutual_info.sort_values(ascending=False)"
   ]
  },
  {
   "cell_type": "code",
   "execution_count": 63,
   "id": "5ffa31c4",
   "metadata": {},
   "outputs": [
    {
     "data": {
      "text/plain": [
       "<AxesSubplot:>"
      ]
     },
     "execution_count": 63,
     "metadata": {},
     "output_type": "execute_result"
    },
    {
     "data": {
      "image/png": "[encoded data removed]",
      "text/plain": [
       "<Figure size 1440x576 with 1 Axes>"
      ]
     },
     "metadata": {},
     "output_type": "display_data"
    }
   ],
   "source": [
    "#let's plot the ordered mutual_info values per feature\n",
    "mutual_info.sort_values(ascending=False).plot.bar(figsize=(20, 8))"
   ]
  },
  {
   "cell_type": "code",
   "execution_count": 64,
   "id": "2b034492",
   "metadata": {},
   "outputs": [],
   "source": [
    "from sklearn.feature_selection import SelectKBest"
   ]
  },
  {
   "cell_type": "code",
   "execution_count": 65,
   "id": "489539af",
   "metadata": {},
   "outputs": [
    {
     "data": {
      "text/plain": [
       "Index(['NET_RENTAL_NEW', 'NO_OF_RENTAL', 'Gen_n', 'PName', 'PCat', 'AType',\n",
       "       'Make', 'DName', 'City', 'MStatus'],\n",
       "      dtype='object')"
      ]
     },
     "execution_count": 65,
     "metadata": {},
     "output_type": "execute_result"
    }
   ],
   "source": [
    "#No we Will select the  top 5 important features\n",
    "sel_ten_cols = SelectKBest(mutual_info_classif, k=10)\n",
    "sel_ten_cols.fit(X2, Y2)\n",
    "X2.columns[sel_ten_cols.get_support()]"
   ]
  },
  {
   "cell_type": "markdown",
   "id": "575754fd",
   "metadata": {},
   "source": [
    "## Fisher Score- Chisquare Test For Feature Selection"
   ]
  },
  {
   "cell_type": "code",
   "execution_count": 67,
   "id": "85d9a117",
   "metadata": {},
   "outputs": [
    {
     "data": {
      "text/html": [
       "<div>\n",
       "<style scoped>\n",
       "    .dataframe tbody tr th:only-of-type {\n",
       "        vertical-align: middle;\n",
       "    }\n",
       "\n",
       "    .dataframe tbody tr th {\n",
       "        vertical-align: top;\n",
       "    }\n",
       "\n",
       "    .dataframe thead th {\n",
       "        text-align: right;\n",
       "    }\n",
       "</style>\n",
       "<table border=\"1\" class=\"dataframe\">\n",
       "  <thead>\n",
       "    <tr style=\"text-align: right;\">\n",
       "      <th></th>\n",
       "      <th>Gen_n</th>\n",
       "      <th>PName</th>\n",
       "      <th>PCat</th>\n",
       "      <th>AType</th>\n",
       "      <th>Make</th>\n",
       "      <th>Reg</th>\n",
       "      <th>DName</th>\n",
       "      <th>City</th>\n",
       "      <th>MStatus</th>\n",
       "    </tr>\n",
       "  </thead>\n",
       "  <tbody>\n",
       "    <tr>\n",
       "      <th>0</th>\n",
       "      <td>1</td>\n",
       "      <td>2</td>\n",
       "      <td>1</td>\n",
       "      <td>3</td>\n",
       "      <td>150</td>\n",
       "      <td>1</td>\n",
       "      <td>21</td>\n",
       "      <td>11</td>\n",
       "      <td>1</td>\n",
       "    </tr>\n",
       "    <tr>\n",
       "      <th>1</th>\n",
       "      <td>1</td>\n",
       "      <td>2</td>\n",
       "      <td>1</td>\n",
       "      <td>3</td>\n",
       "      <td>150</td>\n",
       "      <td>1</td>\n",
       "      <td>21</td>\n",
       "      <td>11</td>\n",
       "      <td>1</td>\n",
       "    </tr>\n",
       "    <tr>\n",
       "      <th>2</th>\n",
       "      <td>1</td>\n",
       "      <td>2</td>\n",
       "      <td>1</td>\n",
       "      <td>3</td>\n",
       "      <td>220</td>\n",
       "      <td>1</td>\n",
       "      <td>21</td>\n",
       "      <td>11</td>\n",
       "      <td>3</td>\n",
       "    </tr>\n",
       "    <tr>\n",
       "      <th>3</th>\n",
       "      <td>1</td>\n",
       "      <td>2</td>\n",
       "      <td>1</td>\n",
       "      <td>3</td>\n",
       "      <td>169</td>\n",
       "      <td>1</td>\n",
       "      <td>21</td>\n",
       "      <td>11</td>\n",
       "      <td>1</td>\n",
       "    </tr>\n",
       "    <tr>\n",
       "      <th>4</th>\n",
       "      <td>0</td>\n",
       "      <td>2</td>\n",
       "      <td>1</td>\n",
       "      <td>3</td>\n",
       "      <td>169</td>\n",
       "      <td>1</td>\n",
       "      <td>21</td>\n",
       "      <td>11</td>\n",
       "      <td>3</td>\n",
       "    </tr>\n",
       "  </tbody>\n",
       "</table>\n",
       "</div>"
      ],
      "text/plain": [
       "   Gen_n  PName  PCat  AType  Make  Reg  DName  City  MStatus\n",
       "0      1      2     1      3   150    1     21    11        1\n",
       "1      1      2     1      3   150    1     21    11        1\n",
       "2      1      2     1      3   220    1     21    11        3\n",
       "3      1      2     1      3   169    1     21    11        1\n",
       "4      0      2     1      3   169    1     21    11        3"
      ]
     },
     "execution_count": 67,
     "metadata": {},
     "output_type": "execute_result"
    }
   ],
   "source": [
    "sample3 = sample[['IS_DEFAULT','Gen_n','PName','PCat','AType','Make','Reg','DName','City','MStatus']]\n",
    "X3 = sample3.drop('IS_DEFAULT',axis=1)\n",
    "Y3 = sample3['IS_DEFAULT']\n",
    "X3.head()"
   ]
  },
  {
   "cell_type": "code",
   "execution_count": 68,
   "id": "94ca4ee5",
   "metadata": {},
   "outputs": [],
   "source": [
    "## Perform chi2 test\n",
    "### chi2 returns 2 values\n",
    "### Fscore and the pvalue\n",
    "from sklearn.feature_selection import chi2\n",
    "f_p_values=chi2(X3,Y3)"
   ]
  },
  {
   "cell_type": "code",
   "execution_count": 69,
   "id": "15f2f624",
   "metadata": {},
   "outputs": [
    {
     "data": {
      "text/plain": [
       "(array([7.08154807e-01, 1.56520084e+02, 6.88031088e+00, 6.02413692e+00,\n",
       "        1.45798420e+04, 3.54095425e+01, 1.03107115e+00, 1.14473351e+01,\n",
       "        1.89605181e-01]),\n",
       " array([4.00057053e-01, 6.51656939e-36, 8.71504038e-03, 1.41115307e-02,\n",
       "        0.00000000e+00, 2.67174709e-09, 3.09907218e-01, 7.15966026e-04,\n",
       "        6.63245425e-01]))"
      ]
     },
     "execution_count": 69,
     "metadata": {},
     "output_type": "execute_result"
    }
   ],
   "source": [
    "f_p_values"
   ]
  },
  {
   "cell_type": "code",
   "execution_count": 70,
   "id": "f798e702",
   "metadata": {},
   "outputs": [
    {
     "data": {
      "text/plain": [
       "Gen_n      4.000571e-01\n",
       "PName      6.516569e-36\n",
       "PCat       8.715040e-03\n",
       "AType      1.411153e-02\n",
       "Make       0.000000e+00\n",
       "Reg        2.671747e-09\n",
       "DName      3.099072e-01\n",
       "City       7.159660e-04\n",
       "MStatus    6.632454e-01\n",
       "dtype: float64"
      ]
     },
     "execution_count": 70,
     "metadata": {},
     "output_type": "execute_result"
    }
   ],
   "source": [
    "p_values=pd.Series(f_p_values[1])\n",
    "p_values.index=X3.columns\n",
    "p_values"
   ]
  },
  {
   "cell_type": "code",
   "execution_count": 71,
   "id": "13bc408e",
   "metadata": {},
   "outputs": [
    {
     "data": {
      "text/plain": [
       "Reg        2.671747e-09\n",
       "PName      6.516569e-36\n",
       "PCat       8.715040e-03\n",
       "Make       0.000000e+00\n",
       "MStatus    6.632454e-01\n",
       "Gen_n      4.000571e-01\n",
       "DName      3.099072e-01\n",
       "City       7.159660e-04\n",
       "AType      1.411153e-02\n",
       "dtype: float64"
      ]
     },
     "execution_count": 71,
     "metadata": {},
     "output_type": "execute_result"
    }
   ],
   "source": [
    "p_values.sort_index(ascending=False)"
   ]
  },
  {
   "cell_type": "markdown",
   "id": "a312ee28",
   "metadata": {},
   "source": [
    "### According to that Reg, PName, PCat, Make and MStatus are the most important features"
   ]
  },
  {
   "cell_type": "code",
   "execution_count": null,
   "id": "da95c72e",
   "metadata": {},
   "outputs": [],
   "source": []
  }
 ],
 "metadata": {
  "kernelspec": {
   "display_name": "Python 3 (ipykernel)",
   "language": "python",
   "name": "python3"
  },
  "language_info": {
   "codemirror_mode": {
    "name": "ipython",
    "version": 3
   },
   "file_extension": ".py",
   "mimetype": "text/x-python",
   "name": "python",
   "nbconvert_exporter": "python",
   "pygments_lexer": "ipython3",
   "version": "3.9.6"
  }
 },
 "nbformat": 4,
 "nbformat_minor": 5
}
