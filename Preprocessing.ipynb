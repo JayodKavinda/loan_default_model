{
 "cells": [
  {
   "cell_type": "markdown",
   "id": "f79850db",
   "metadata": {},
   "source": [
    "# Loan Default Prediction"
   ]
  },
  {
   "cell_type": "code",
   "execution_count": 1,
   "id": "6f1fca3c",
   "metadata": {},
   "outputs": [],
   "source": [
    "import pandas as pd\n",
    "import numpy as np\n",
    "import matplotlib.pyplot as plt\n",
    "import seaborn as sns\n",
    "%matplotlib inline"
   ]
  },
  {
   "cell_type": "markdown",
   "id": "f624a8da",
   "metadata": {},
   "source": [
    "# EDA - V1"
   ]
  },
  {
   "cell_type": "code",
   "execution_count": 2,
   "id": "05f4fa87",
   "metadata": {},
   "outputs": [],
   "source": [
    "df = pd.read_excel ('data-S8.xlsx', sheet_name='Sheet1')"
   ]
  },
  {
   "cell_type": "markdown",
   "id": "53219dac",
   "metadata": {},
   "source": [
    "**Observing the Dataset**"
   ]
  },
  {
   "cell_type": "code",
   "execution_count": 3,
   "id": "17171f37",
   "metadata": {},
   "outputs": [
    {
     "data": {
      "text/html": [
       "<div>\n",
       "<style scoped>\n",
       "    .dataframe tbody tr th:only-of-type {\n",
       "        vertical-align: middle;\n",
       "    }\n",
       "\n",
       "    .dataframe tbody tr th {\n",
       "        vertical-align: top;\n",
       "    }\n",
       "\n",
       "    .dataframe thead th {\n",
       "        text-align: right;\n",
       "    }\n",
       "</style>\n",
       "<table border=\"1\" class=\"dataframe\">\n",
       "  <thead>\n",
       "    <tr style=\"text-align: right;\">\n",
       "      <th></th>\n",
       "      <th>PRODUCT_CODE</th>\n",
       "      <th>PRODUCT_NAME</th>\n",
       "      <th>PRODUCT_CATEGORY</th>\n",
       "      <th>CONTRACT_NO</th>\n",
       "      <th>CONTRACT_STATUS</th>\n",
       "      <th>IS_DEFAULT</th>\n",
       "      <th>CONTRACT_DATE</th>\n",
       "      <th>RECOVERY_STATUS</th>\n",
       "      <th>LAST_PAYMENT_DATE</th>\n",
       "      <th>RE_PROCESS_DATE</th>\n",
       "      <th>...</th>\n",
       "      <th>CITY</th>\n",
       "      <th>DISTRICT_NAME</th>\n",
       "      <th>PROVINCE</th>\n",
       "      <th>FINANCE_AMOUNT</th>\n",
       "      <th>CUSTOMER_VALUATION</th>\n",
       "      <th>EFFECTIVE_RATE</th>\n",
       "      <th>AGE</th>\n",
       "      <th>MARITAL_STATUS</th>\n",
       "      <th>INCOME</th>\n",
       "      <th>EXPENSE</th>\n",
       "    </tr>\n",
       "  </thead>\n",
       "  <tbody>\n",
       "    <tr>\n",
       "      <th>0</th>\n",
       "      <td>HP</td>\n",
       "      <td>HIRE PURCHASE</td>\n",
       "      <td>HIRE PURCHASE</td>\n",
       "      <td>BLHP006419</td>\n",
       "      <td>S</td>\n",
       "      <td>0</td>\n",
       "      <td>20-AUG-2014</td>\n",
       "      <td>T</td>\n",
       "      <td>31-MAR-2017</td>\n",
       "      <td>NaN</td>\n",
       "      <td>...</td>\n",
       "      <td>BALANGODA</td>\n",
       "      <td>RATNAPURA</td>\n",
       "      <td>SABARAGAMUWA</td>\n",
       "      <td>290000.0</td>\n",
       "      <td>375000.0</td>\n",
       "      <td>28.00</td>\n",
       "      <td>62.0</td>\n",
       "      <td>M</td>\n",
       "      <td>46000.0</td>\n",
       "      <td>15000.0</td>\n",
       "    </tr>\n",
       "    <tr>\n",
       "      <th>1</th>\n",
       "      <td>HP</td>\n",
       "      <td>HIRE PURCHASE</td>\n",
       "      <td>HIRE PURCHASE</td>\n",
       "      <td>BLHP006425</td>\n",
       "      <td>W</td>\n",
       "      <td>1</td>\n",
       "      <td>22-AUG-2014</td>\n",
       "      <td>TRS</td>\n",
       "      <td>12-SEP-2019</td>\n",
       "      <td>30-NOV-2015</td>\n",
       "      <td>...</td>\n",
       "      <td>BALANGODA</td>\n",
       "      <td>RATNAPURA</td>\n",
       "      <td>SABARAGAMUWA</td>\n",
       "      <td>375000.0</td>\n",
       "      <td>475000.0</td>\n",
       "      <td>28.00</td>\n",
       "      <td>40.0</td>\n",
       "      <td>M</td>\n",
       "      <td>40000.0</td>\n",
       "      <td>10750.0</td>\n",
       "    </tr>\n",
       "    <tr>\n",
       "      <th>2</th>\n",
       "      <td>HP</td>\n",
       "      <td>HIRE PURCHASE</td>\n",
       "      <td>HIRE PURCHASE</td>\n",
       "      <td>BLHP006435</td>\n",
       "      <td>S</td>\n",
       "      <td>0</td>\n",
       "      <td>31-AUG-2014</td>\n",
       "      <td>T</td>\n",
       "      <td>09-MAR-2017</td>\n",
       "      <td>NaN</td>\n",
       "      <td>...</td>\n",
       "      <td>BALANGODA</td>\n",
       "      <td>RATNAPURA</td>\n",
       "      <td>SABARAGAMUWA</td>\n",
       "      <td>300000.0</td>\n",
       "      <td>500000.0</td>\n",
       "      <td>28.01</td>\n",
       "      <td>50.0</td>\n",
       "      <td>S</td>\n",
       "      <td>150000.0</td>\n",
       "      <td>75000.0</td>\n",
       "    </tr>\n",
       "    <tr>\n",
       "      <th>3</th>\n",
       "      <td>HP</td>\n",
       "      <td>HIRE PURCHASE</td>\n",
       "      <td>HIRE PURCHASE</td>\n",
       "      <td>BLHP006446</td>\n",
       "      <td>S</td>\n",
       "      <td>0</td>\n",
       "      <td>18-SEP-2014</td>\n",
       "      <td>NaN</td>\n",
       "      <td>25-JUL-2016</td>\n",
       "      <td>NaN</td>\n",
       "      <td>...</td>\n",
       "      <td>BALANGODA</td>\n",
       "      <td>RATNAPURA</td>\n",
       "      <td>SABARAGAMUWA</td>\n",
       "      <td>365000.0</td>\n",
       "      <td>600000.0</td>\n",
       "      <td>20.00</td>\n",
       "      <td>67.0</td>\n",
       "      <td>M</td>\n",
       "      <td>35000.0</td>\n",
       "      <td>9000.0</td>\n",
       "    </tr>\n",
       "    <tr>\n",
       "      <th>4</th>\n",
       "      <td>HP</td>\n",
       "      <td>HIRE PURCHASE</td>\n",
       "      <td>HIRE PURCHASE</td>\n",
       "      <td>BLHP006457</td>\n",
       "      <td>S</td>\n",
       "      <td>0</td>\n",
       "      <td>22-SEP-2014</td>\n",
       "      <td>NaN</td>\n",
       "      <td>02-OCT-2018</td>\n",
       "      <td>NaN</td>\n",
       "      <td>...</td>\n",
       "      <td>BALANGODA</td>\n",
       "      <td>RATNAPURA</td>\n",
       "      <td>SABARAGAMUWA</td>\n",
       "      <td>550000.0</td>\n",
       "      <td>700000.0</td>\n",
       "      <td>28.00</td>\n",
       "      <td>35.0</td>\n",
       "      <td>S</td>\n",
       "      <td>80000.0</td>\n",
       "      <td>30000.0</td>\n",
       "    </tr>\n",
       "  </tbody>\n",
       "</table>\n",
       "<p>5 rows × 35 columns</p>\n",
       "</div>"
      ],
      "text/plain": [
       "  PRODUCT_CODE   PRODUCT_NAME PRODUCT_CATEGORY CONTRACT_NO CONTRACT_STATUS  \\\n",
       "0           HP  HIRE PURCHASE    HIRE PURCHASE  BLHP006419               S   \n",
       "1           HP  HIRE PURCHASE    HIRE PURCHASE  BLHP006425               W   \n",
       "2           HP  HIRE PURCHASE    HIRE PURCHASE  BLHP006435               S   \n",
       "3           HP  HIRE PURCHASE    HIRE PURCHASE  BLHP006446               S   \n",
       "4           HP  HIRE PURCHASE    HIRE PURCHASE  BLHP006457               S   \n",
       "\n",
       "   IS_DEFAULT CONTRACT_DATE RECOVERY_STATUS LAST_PAYMENT_DATE RE_PROCESS_DATE  \\\n",
       "0           0   20-AUG-2014               T       31-MAR-2017             NaN   \n",
       "1           1   22-AUG-2014             TRS       12-SEP-2019     30-NOV-2015   \n",
       "2           0   31-AUG-2014               T       09-MAR-2017             NaN   \n",
       "3           0   18-SEP-2014             NaN       25-JUL-2016             NaN   \n",
       "4           0   22-SEP-2014             NaN       02-OCT-2018             NaN   \n",
       "\n",
       "   ...       CITY DISTRICT_NAME      PROVINCE  FINANCE_AMOUNT  \\\n",
       "0  ...  BALANGODA     RATNAPURA  SABARAGAMUWA        290000.0   \n",
       "1  ...  BALANGODA     RATNAPURA  SABARAGAMUWA        375000.0   \n",
       "2  ...  BALANGODA     RATNAPURA  SABARAGAMUWA        300000.0   \n",
       "3  ...  BALANGODA     RATNAPURA  SABARAGAMUWA        365000.0   \n",
       "4  ...  BALANGODA     RATNAPURA  SABARAGAMUWA        550000.0   \n",
       "\n",
       "   CUSTOMER_VALUATION  EFFECTIVE_RATE   AGE  MARITAL_STATUS    INCOME  EXPENSE  \n",
       "0            375000.0           28.00  62.0               M   46000.0  15000.0  \n",
       "1            475000.0           28.00  40.0               M   40000.0  10750.0  \n",
       "2            500000.0           28.01  50.0               S  150000.0  75000.0  \n",
       "3            600000.0           20.00  67.0               M   35000.0   9000.0  \n",
       "4            700000.0           28.00  35.0               S   80000.0  30000.0  \n",
       "\n",
       "[5 rows x 35 columns]"
      ]
     },
     "execution_count": 3,
     "metadata": {},
     "output_type": "execute_result"
    }
   ],
   "source": [
    "df.head()    "
   ]
  },
  {
   "cell_type": "code",
   "execution_count": 4,
   "id": "2c613494",
   "metadata": {},
   "outputs": [
    {
     "data": {
      "text/html": [
       "<div>\n",
       "<style scoped>\n",
       "    .dataframe tbody tr th:only-of-type {\n",
       "        vertical-align: middle;\n",
       "    }\n",
       "\n",
       "    .dataframe tbody tr th {\n",
       "        vertical-align: top;\n",
       "    }\n",
       "\n",
       "    .dataframe thead th {\n",
       "        text-align: right;\n",
       "    }\n",
       "</style>\n",
       "<table border=\"1\" class=\"dataframe\">\n",
       "  <thead>\n",
       "    <tr style=\"text-align: right;\">\n",
       "      <th></th>\n",
       "      <th>PRODUCT_CODE</th>\n",
       "      <th>PRODUCT_NAME</th>\n",
       "      <th>PRODUCT_CATEGORY</th>\n",
       "      <th>CONTRACT_NO</th>\n",
       "      <th>CONTRACT_STATUS</th>\n",
       "      <th>IS_DEFAULT</th>\n",
       "      <th>CONTRACT_DATE</th>\n",
       "      <th>RECOVERY_STATUS</th>\n",
       "      <th>LAST_PAYMENT_DATE</th>\n",
       "      <th>RE_PROCESS_DATE</th>\n",
       "      <th>...</th>\n",
       "      <th>CITY</th>\n",
       "      <th>DISTRICT_NAME</th>\n",
       "      <th>PROVINCE</th>\n",
       "      <th>FINANCE_AMOUNT</th>\n",
       "      <th>CUSTOMER_VALUATION</th>\n",
       "      <th>EFFECTIVE_RATE</th>\n",
       "      <th>AGE</th>\n",
       "      <th>MARITAL_STATUS</th>\n",
       "      <th>INCOME</th>\n",
       "      <th>EXPENSE</th>\n",
       "    </tr>\n",
       "  </thead>\n",
       "  <tbody>\n",
       "    <tr>\n",
       "      <th>81013</th>\n",
       "      <td>MB</td>\n",
       "      <td>MOTOR BICYCLE</td>\n",
       "      <td>LEASING</td>\n",
       "      <td>KRMBA005639</td>\n",
       "      <td>S</td>\n",
       "      <td>0</td>\n",
       "      <td>28-SEP-2016</td>\n",
       "      <td>NaN</td>\n",
       "      <td>15-SEP-2018</td>\n",
       "      <td>NaN</td>\n",
       "      <td>...</td>\n",
       "      <td>KIRINDIWELA</td>\n",
       "      <td>GAMPAHA</td>\n",
       "      <td>WESTERN</td>\n",
       "      <td>165193.0</td>\n",
       "      <td>235990.0</td>\n",
       "      <td>40.89</td>\n",
       "      <td>52.0</td>\n",
       "      <td>M</td>\n",
       "      <td>70000.0</td>\n",
       "      <td>25000.0</td>\n",
       "    </tr>\n",
       "    <tr>\n",
       "      <th>81014</th>\n",
       "      <td>TW</td>\n",
       "      <td>THREE WHEELER</td>\n",
       "      <td>LEASING</td>\n",
       "      <td>GPTWA008432</td>\n",
       "      <td>S</td>\n",
       "      <td>0</td>\n",
       "      <td>30-SEP-2016</td>\n",
       "      <td>NaN</td>\n",
       "      <td>26-SEP-2019</td>\n",
       "      <td>NaN</td>\n",
       "      <td>...</td>\n",
       "      <td>GAMPAHA</td>\n",
       "      <td>GAMPAHA</td>\n",
       "      <td>WESTERN</td>\n",
       "      <td>216500.0</td>\n",
       "      <td>315000.0</td>\n",
       "      <td>28.04</td>\n",
       "      <td>52.0</td>\n",
       "      <td>M</td>\n",
       "      <td>128150.0</td>\n",
       "      <td>32495.0</td>\n",
       "    </tr>\n",
       "    <tr>\n",
       "      <th>81015</th>\n",
       "      <td>MB</td>\n",
       "      <td>MOTOR BICYCLE</td>\n",
       "      <td>LEASING</td>\n",
       "      <td>EMMBA009743</td>\n",
       "      <td>S</td>\n",
       "      <td>0</td>\n",
       "      <td>30-SEP-2016</td>\n",
       "      <td>NaN</td>\n",
       "      <td>01-FEB-2019</td>\n",
       "      <td>NaN</td>\n",
       "      <td>...</td>\n",
       "      <td>EMBILIPITIYA</td>\n",
       "      <td>RATNAPURA</td>\n",
       "      <td>SABARAGAMUWA</td>\n",
       "      <td>86030.0</td>\n",
       "      <td>122900.0</td>\n",
       "      <td>42.63</td>\n",
       "      <td>45.0</td>\n",
       "      <td>M</td>\n",
       "      <td>60000.0</td>\n",
       "      <td>12500.0</td>\n",
       "    </tr>\n",
       "    <tr>\n",
       "      <th>81016</th>\n",
       "      <td>MB</td>\n",
       "      <td>MOTOR BICYCLE</td>\n",
       "      <td>LEASING</td>\n",
       "      <td>APMBA008319</td>\n",
       "      <td>R</td>\n",
       "      <td>1</td>\n",
       "      <td>03-OCT-2016</td>\n",
       "      <td>NaN</td>\n",
       "      <td>06-DEC-2016</td>\n",
       "      <td>NaN</td>\n",
       "      <td>...</td>\n",
       "      <td>ANURADHAPURA</td>\n",
       "      <td>ANURADHAPURA</td>\n",
       "      <td>NORTH CENTRAL</td>\n",
       "      <td>156000.0</td>\n",
       "      <td>224500.0</td>\n",
       "      <td>30.66</td>\n",
       "      <td>30.0</td>\n",
       "      <td>M</td>\n",
       "      <td>70000.0</td>\n",
       "      <td>24000.0</td>\n",
       "    </tr>\n",
       "    <tr>\n",
       "      <th>81017</th>\n",
       "      <td>TW</td>\n",
       "      <td>THREE WHEELER</td>\n",
       "      <td>LEASING</td>\n",
       "      <td>MRTWA006452</td>\n",
       "      <td>S</td>\n",
       "      <td>0</td>\n",
       "      <td>05-OCT-2016</td>\n",
       "      <td>T</td>\n",
       "      <td>04-MAR-2020</td>\n",
       "      <td>NaN</td>\n",
       "      <td>...</td>\n",
       "      <td>MATARA</td>\n",
       "      <td>MATARA</td>\n",
       "      <td>SOUTHERN</td>\n",
       "      <td>161000.0</td>\n",
       "      <td>230000.0</td>\n",
       "      <td>27.85</td>\n",
       "      <td>36.0</td>\n",
       "      <td>M</td>\n",
       "      <td>120000.0</td>\n",
       "      <td>49000.0</td>\n",
       "    </tr>\n",
       "  </tbody>\n",
       "</table>\n",
       "<p>5 rows × 35 columns</p>\n",
       "</div>"
      ],
      "text/plain": [
       "      PRODUCT_CODE   PRODUCT_NAME PRODUCT_CATEGORY  CONTRACT_NO  \\\n",
       "81013           MB  MOTOR BICYCLE          LEASING  KRMBA005639   \n",
       "81014           TW  THREE WHEELER          LEASING  GPTWA008432   \n",
       "81015           MB  MOTOR BICYCLE          LEASING  EMMBA009743   \n",
       "81016           MB  MOTOR BICYCLE          LEASING  APMBA008319   \n",
       "81017           TW  THREE WHEELER          LEASING  MRTWA006452   \n",
       "\n",
       "      CONTRACT_STATUS  IS_DEFAULT CONTRACT_DATE RECOVERY_STATUS  \\\n",
       "81013               S           0   28-SEP-2016             NaN   \n",
       "81014               S           0   30-SEP-2016             NaN   \n",
       "81015               S           0   30-SEP-2016             NaN   \n",
       "81016               R           1   03-OCT-2016             NaN   \n",
       "81017               S           0   05-OCT-2016               T   \n",
       "\n",
       "      LAST_PAYMENT_DATE RE_PROCESS_DATE  ...          CITY DISTRICT_NAME  \\\n",
       "81013       15-SEP-2018             NaN  ...   KIRINDIWELA       GAMPAHA   \n",
       "81014       26-SEP-2019             NaN  ...       GAMPAHA       GAMPAHA   \n",
       "81015       01-FEB-2019             NaN  ...  EMBILIPITIYA     RATNAPURA   \n",
       "81016       06-DEC-2016             NaN  ...  ANURADHAPURA  ANURADHAPURA   \n",
       "81017       04-MAR-2020             NaN  ...        MATARA        MATARA   \n",
       "\n",
       "             PROVINCE  FINANCE_AMOUNT  CUSTOMER_VALUATION  EFFECTIVE_RATE  \\\n",
       "81013        WESTERN         165193.0            235990.0           40.89   \n",
       "81014        WESTERN         216500.0            315000.0           28.04   \n",
       "81015    SABARAGAMUWA         86030.0            122900.0           42.63   \n",
       "81016  NORTH CENTRAL         156000.0            224500.0           30.66   \n",
       "81017       SOUTHERN         161000.0            230000.0           27.85   \n",
       "\n",
       "        AGE  MARITAL_STATUS    INCOME  EXPENSE  \n",
       "81013  52.0               M   70000.0  25000.0  \n",
       "81014  52.0               M  128150.0  32495.0  \n",
       "81015  45.0               M   60000.0  12500.0  \n",
       "81016  30.0               M   70000.0  24000.0  \n",
       "81017  36.0               M  120000.0  49000.0  \n",
       "\n",
       "[5 rows x 35 columns]"
      ]
     },
     "execution_count": 4,
     "metadata": {},
     "output_type": "execute_result"
    }
   ],
   "source": [
    "df.tail()"
   ]
  },
  {
   "cell_type": "code",
   "execution_count": 5,
   "id": "daa218df",
   "metadata": {},
   "outputs": [
    {
     "data": {
      "text/plain": [
       "(81018, 35)"
      ]
     },
     "execution_count": 5,
     "metadata": {},
     "output_type": "execute_result"
    }
   ],
   "source": [
    "df.shape"
   ]
  },
  {
   "cell_type": "code",
   "execution_count": 6,
   "id": "6099d420",
   "metadata": {},
   "outputs": [
    {
     "data": {
      "text/plain": [
       "Index(['PRODUCT_CODE', 'PRODUCT_NAME', 'PRODUCT_CATEGORY', 'CONTRACT_NO',\n",
       "       'CONTRACT_STATUS', 'IS_DEFAULT', 'CONTRACT_DATE', 'RECOVERY_STATUS',\n",
       "       'LAST_PAYMENT_DATE', 'RE_PROCESS_DATE', 'RESCHEDULE', 'DUE_FREQUENCY',\n",
       "       'NET_RENTAL', 'NET_RENTAL_NEW', 'NR_PMT', 'NO_OF_RENTAL',\n",
       "       'PAID_RENTALS', 'CB_ARREARS_AGE', 'ASSET_TYPE_NAME', 'YOM', 'MAKE',\n",
       "       'MODEL_NAME', 'REGISTRATION', 'REGISTRATION_NO', 'GENDER', 'CITY',\n",
       "       'DISTRICT_NAME', 'PROVINCE', 'FINANCE_AMOUNT', 'CUSTOMER_VALUATION',\n",
       "       'EFFECTIVE_RATE', 'AGE', 'MARITAL_STATUS', 'INCOME', 'EXPENSE'],\n",
       "      dtype='object')"
      ]
     },
     "execution_count": 6,
     "metadata": {},
     "output_type": "execute_result"
    }
   ],
   "source": [
    "df.columns"
   ]
  },
  {
   "cell_type": "code",
   "execution_count": 7,
   "id": "6ce17bcf",
   "metadata": {},
   "outputs": [
    {
     "data": {
      "text/plain": [
       "PRODUCT_CODE             14\n",
       "PRODUCT_NAME             14\n",
       "PRODUCT_CATEGORY          4\n",
       "CONTRACT_NO           80494\n",
       "CONTRACT_STATUS           4\n",
       "IS_DEFAULT                2\n",
       "CONTRACT_DATE          1412\n",
       "RECOVERY_STATUS          16\n",
       "LAST_PAYMENT_DATE      2379\n",
       "RE_PROCESS_DATE        1556\n",
       "RESCHEDULE                2\n",
       "DUE_FREQUENCY             1\n",
       "NET_RENTAL            19138\n",
       "NET_RENTAL_NEW        18031\n",
       "NR_PMT                47796\n",
       "NO_OF_RENTAL             59\n",
       "PAID_RENTALS           1164\n",
       "CB_ARREARS_AGE         4444\n",
       "ASSET_TYPE_NAME          20\n",
       "YOM                     104\n",
       "MAKE                    247\n",
       "MODEL_NAME             4973\n",
       "REGISTRATION              2\n",
       "REGISTRATION_NO       76282\n",
       "GENDER                    2\n",
       "CITY                     93\n",
       "DISTRICT_NAME            24\n",
       "PROVINCE                  9\n",
       "FINANCE_AMOUNT        14261\n",
       "CUSTOMER_VALUATION     1881\n",
       "EFFECTIVE_RATE         3097\n",
       "AGE                      68\n",
       "MARITAL_STATUS            6\n",
       "INCOME                 5837\n",
       "EXPENSE                2886\n",
       "dtype: int64"
      ]
     },
     "execution_count": 7,
     "metadata": {},
     "output_type": "execute_result"
    }
   ],
   "source": [
    "df.nunique()"
   ]
  },
  {
   "cell_type": "code",
   "execution_count": 8,
   "id": "e27e5935",
   "metadata": {},
   "outputs": [
    {
     "data": {
      "text/plain": [
       "PRODUCT_CODE              0\n",
       "PRODUCT_NAME              0\n",
       "PRODUCT_CATEGORY          0\n",
       "CONTRACT_NO               0\n",
       "CONTRACT_STATUS           0\n",
       "IS_DEFAULT                0\n",
       "CONTRACT_DATE             0\n",
       "RECOVERY_STATUS       36952\n",
       "LAST_PAYMENT_DATE        45\n",
       "RE_PROCESS_DATE       72273\n",
       "RESCHEDULE                0\n",
       "DUE_FREQUENCY             0\n",
       "NET_RENTAL                0\n",
       "NET_RENTAL_NEW            0\n",
       "NR_PMT                    0\n",
       "NO_OF_RENTAL              0\n",
       "PAID_RENTALS              0\n",
       "CB_ARREARS_AGE            0\n",
       "ASSET_TYPE_NAME           0\n",
       "YOM                       0\n",
       "MAKE                      0\n",
       "MODEL_NAME                8\n",
       "REGISTRATION              0\n",
       "REGISTRATION_NO         470\n",
       "GENDER                  290\n",
       "CITY                      0\n",
       "DISTRICT_NAME             0\n",
       "PROVINCE                  0\n",
       "FINANCE_AMOUNT            0\n",
       "CUSTOMER_VALUATION      222\n",
       "EFFECTIVE_RATE            0\n",
       "AGE                      21\n",
       "MARITAL_STATUS         1687\n",
       "INCOME                    0\n",
       "EXPENSE                   0\n",
       "dtype: int64"
      ]
     },
     "execution_count": 8,
     "metadata": {},
     "output_type": "execute_result"
    }
   ],
   "source": [
    "df.isnull().sum()"
   ]
  },
  {
   "cell_type": "markdown",
   "id": "89b6739b",
   "metadata": {},
   "source": [
    "**Droping non features**"
   ]
  },
  {
   "cell_type": "code",
   "execution_count": 9,
   "id": "4b9f3e43",
   "metadata": {},
   "outputs": [],
   "source": [
    "sample = df.drop(['PRODUCT_CODE', 'CONTRACT_NO',\n",
    "       'CONTRACT_STATUS', 'CONTRACT_DATE', 'RECOVERY_STATUS',\n",
    "       'LAST_PAYMENT_DATE', 'RE_PROCESS_DATE', 'RESCHEDULE', 'DUE_FREQUENCY',\n",
    "       'PAID_RENTALS', 'CB_ARREARS_AGE','REGISTRATION_NO','PRODUCT_CATEGORY','MAKE'],axis=1)"
   ]
  },
  {
   "cell_type": "code",
   "execution_count": 10,
   "id": "0340e2f8",
   "metadata": {},
   "outputs": [
    {
     "data": {
      "text/plain": [
       "Index(['PRODUCT_NAME', 'IS_DEFAULT', 'NET_RENTAL', 'NET_RENTAL_NEW', 'NR_PMT',\n",
       "       'NO_OF_RENTAL', 'ASSET_TYPE_NAME', 'YOM', 'MODEL_NAME', 'REGISTRATION',\n",
       "       'GENDER', 'CITY', 'DISTRICT_NAME', 'PROVINCE', 'FINANCE_AMOUNT',\n",
       "       'CUSTOMER_VALUATION', 'EFFECTIVE_RATE', 'AGE', 'MARITAL_STATUS',\n",
       "       'INCOME', 'EXPENSE'],\n",
       "      dtype='object')"
      ]
     },
     "execution_count": 10,
     "metadata": {},
     "output_type": "execute_result"
    }
   ],
   "source": [
    "sample.columns"
   ]
  },
  {
   "cell_type": "code",
   "execution_count": 11,
   "id": "d3c50d28",
   "metadata": {},
   "outputs": [
    {
     "data": {
      "text/html": [
       "<div>\n",
       "<style scoped>\n",
       "    .dataframe tbody tr th:only-of-type {\n",
       "        vertical-align: middle;\n",
       "    }\n",
       "\n",
       "    .dataframe tbody tr th {\n",
       "        vertical-align: top;\n",
       "    }\n",
       "\n",
       "    .dataframe thead th {\n",
       "        text-align: right;\n",
       "    }\n",
       "</style>\n",
       "<table border=\"1\" class=\"dataframe\">\n",
       "  <thead>\n",
       "    <tr style=\"text-align: right;\">\n",
       "      <th></th>\n",
       "      <th>PRODUCT_NAME</th>\n",
       "      <th>IS_DEFAULT</th>\n",
       "      <th>NET_RENTAL</th>\n",
       "      <th>NET_RENTAL_NEW</th>\n",
       "      <th>NR_PMT</th>\n",
       "      <th>NO_OF_RENTAL</th>\n",
       "      <th>ASSET_TYPE_NAME</th>\n",
       "      <th>YOM</th>\n",
       "      <th>MODEL_NAME</th>\n",
       "      <th>REGISTRATION</th>\n",
       "      <th>...</th>\n",
       "      <th>CITY</th>\n",
       "      <th>DISTRICT_NAME</th>\n",
       "      <th>PROVINCE</th>\n",
       "      <th>FINANCE_AMOUNT</th>\n",
       "      <th>CUSTOMER_VALUATION</th>\n",
       "      <th>EFFECTIVE_RATE</th>\n",
       "      <th>AGE</th>\n",
       "      <th>MARITAL_STATUS</th>\n",
       "      <th>INCOME</th>\n",
       "      <th>EXPENSE</th>\n",
       "    </tr>\n",
       "  </thead>\n",
       "  <tbody>\n",
       "    <tr>\n",
       "      <th>0</th>\n",
       "      <td>HIRE PURCHASE</td>\n",
       "      <td>0</td>\n",
       "      <td>11996.0</td>\n",
       "      <td>11995</td>\n",
       "      <td>-11995.440424</td>\n",
       "      <td>36</td>\n",
       "      <td>Car</td>\n",
       "      <td>1979</td>\n",
       "      <td>LANCER</td>\n",
       "      <td>UNREGISTERED</td>\n",
       "      <td>...</td>\n",
       "      <td>BALANGODA</td>\n",
       "      <td>RATNAPURA</td>\n",
       "      <td>SABARAGAMUWA</td>\n",
       "      <td>290000.0</td>\n",
       "      <td>375000.0</td>\n",
       "      <td>28.00</td>\n",
       "      <td>62.0</td>\n",
       "      <td>M</td>\n",
       "      <td>46000.0</td>\n",
       "      <td>15000.0</td>\n",
       "    </tr>\n",
       "    <tr>\n",
       "      <th>1</th>\n",
       "      <td>HIRE PURCHASE</td>\n",
       "      <td>1</td>\n",
       "      <td>13070.0</td>\n",
       "      <td>13070</td>\n",
       "      <td>-13069.554943</td>\n",
       "      <td>48</td>\n",
       "      <td>Car</td>\n",
       "      <td>1985</td>\n",
       "      <td>LANCER</td>\n",
       "      <td>UNREGISTERED</td>\n",
       "      <td>...</td>\n",
       "      <td>BALANGODA</td>\n",
       "      <td>RATNAPURA</td>\n",
       "      <td>SABARAGAMUWA</td>\n",
       "      <td>375000.0</td>\n",
       "      <td>475000.0</td>\n",
       "      <td>28.00</td>\n",
       "      <td>40.0</td>\n",
       "      <td>M</td>\n",
       "      <td>40000.0</td>\n",
       "      <td>10750.0</td>\n",
       "    </tr>\n",
       "    <tr>\n",
       "      <th>2</th>\n",
       "      <td>HIRE PURCHASE</td>\n",
       "      <td>0</td>\n",
       "      <td>12410.0</td>\n",
       "      <td>12411</td>\n",
       "      <td>-12410.697120</td>\n",
       "      <td>36</td>\n",
       "      <td>Car</td>\n",
       "      <td>1984</td>\n",
       "      <td>COROLLA</td>\n",
       "      <td>UNREGISTERED</td>\n",
       "      <td>...</td>\n",
       "      <td>BALANGODA</td>\n",
       "      <td>RATNAPURA</td>\n",
       "      <td>SABARAGAMUWA</td>\n",
       "      <td>300000.0</td>\n",
       "      <td>500000.0</td>\n",
       "      <td>28.01</td>\n",
       "      <td>50.0</td>\n",
       "      <td>S</td>\n",
       "      <td>150000.0</td>\n",
       "      <td>75000.0</td>\n",
       "    </tr>\n",
       "    <tr>\n",
       "      <th>3</th>\n",
       "      <td>HIRE PURCHASE</td>\n",
       "      <td>0</td>\n",
       "      <td>11108.0</td>\n",
       "      <td>11107</td>\n",
       "      <td>-11107.082256</td>\n",
       "      <td>48</td>\n",
       "      <td>Car</td>\n",
       "      <td>1987</td>\n",
       "      <td>SUNNY</td>\n",
       "      <td>UNREGISTERED</td>\n",
       "      <td>...</td>\n",
       "      <td>BALANGODA</td>\n",
       "      <td>RATNAPURA</td>\n",
       "      <td>SABARAGAMUWA</td>\n",
       "      <td>365000.0</td>\n",
       "      <td>600000.0</td>\n",
       "      <td>20.00</td>\n",
       "      <td>67.0</td>\n",
       "      <td>M</td>\n",
       "      <td>35000.0</td>\n",
       "      <td>9000.0</td>\n",
       "    </tr>\n",
       "    <tr>\n",
       "      <th>4</th>\n",
       "      <td>HIRE PURCHASE</td>\n",
       "      <td>0</td>\n",
       "      <td>19169.0</td>\n",
       "      <td>19169</td>\n",
       "      <td>-19168.680584</td>\n",
       "      <td>48</td>\n",
       "      <td>Car</td>\n",
       "      <td>1990</td>\n",
       "      <td>MARCH.</td>\n",
       "      <td>UNREGISTERED</td>\n",
       "      <td>...</td>\n",
       "      <td>BALANGODA</td>\n",
       "      <td>RATNAPURA</td>\n",
       "      <td>SABARAGAMUWA</td>\n",
       "      <td>550000.0</td>\n",
       "      <td>700000.0</td>\n",
       "      <td>28.00</td>\n",
       "      <td>35.0</td>\n",
       "      <td>S</td>\n",
       "      <td>80000.0</td>\n",
       "      <td>30000.0</td>\n",
       "    </tr>\n",
       "  </tbody>\n",
       "</table>\n",
       "<p>5 rows × 21 columns</p>\n",
       "</div>"
      ],
      "text/plain": [
       "    PRODUCT_NAME  IS_DEFAULT  NET_RENTAL  NET_RENTAL_NEW        NR_PMT  \\\n",
       "0  HIRE PURCHASE           0     11996.0           11995 -11995.440424   \n",
       "1  HIRE PURCHASE           1     13070.0           13070 -13069.554943   \n",
       "2  HIRE PURCHASE           0     12410.0           12411 -12410.697120   \n",
       "3  HIRE PURCHASE           0     11108.0           11107 -11107.082256   \n",
       "4  HIRE PURCHASE           0     19169.0           19169 -19168.680584   \n",
       "\n",
       "   NO_OF_RENTAL ASSET_TYPE_NAME   YOM MODEL_NAME  REGISTRATION  ...  \\\n",
       "0            36             Car  1979     LANCER  UNREGISTERED  ...   \n",
       "1            48             Car  1985     LANCER  UNREGISTERED  ...   \n",
       "2            36             Car  1984    COROLLA  UNREGISTERED  ...   \n",
       "3            48             Car  1987      SUNNY  UNREGISTERED  ...   \n",
       "4            48             Car  1990     MARCH.  UNREGISTERED  ...   \n",
       "\n",
       "        CITY DISTRICT_NAME      PROVINCE FINANCE_AMOUNT  CUSTOMER_VALUATION  \\\n",
       "0  BALANGODA     RATNAPURA  SABARAGAMUWA       290000.0            375000.0   \n",
       "1  BALANGODA     RATNAPURA  SABARAGAMUWA       375000.0            475000.0   \n",
       "2  BALANGODA     RATNAPURA  SABARAGAMUWA       300000.0            500000.0   \n",
       "3  BALANGODA     RATNAPURA  SABARAGAMUWA       365000.0            600000.0   \n",
       "4  BALANGODA     RATNAPURA  SABARAGAMUWA       550000.0            700000.0   \n",
       "\n",
       "   EFFECTIVE_RATE   AGE  MARITAL_STATUS    INCOME  EXPENSE  \n",
       "0           28.00  62.0               M   46000.0  15000.0  \n",
       "1           28.00  40.0               M   40000.0  10750.0  \n",
       "2           28.01  50.0               S  150000.0  75000.0  \n",
       "3           20.00  67.0               M   35000.0   9000.0  \n",
       "4           28.00  35.0               S   80000.0  30000.0  \n",
       "\n",
       "[5 rows x 21 columns]"
      ]
     },
     "execution_count": 11,
     "metadata": {},
     "output_type": "execute_result"
    }
   ],
   "source": [
    "sample.head()"
   ]
  },
  {
   "cell_type": "code",
   "execution_count": 12,
   "id": "4311074c",
   "metadata": {},
   "outputs": [
    {
     "data": {
      "text/plain": [
       "PRODUCT_NAME             0\n",
       "IS_DEFAULT               0\n",
       "NET_RENTAL               0\n",
       "NET_RENTAL_NEW           0\n",
       "NR_PMT                   0\n",
       "NO_OF_RENTAL             0\n",
       "ASSET_TYPE_NAME          0\n",
       "YOM                      0\n",
       "MODEL_NAME               8\n",
       "REGISTRATION             0\n",
       "GENDER                 290\n",
       "CITY                     0\n",
       "DISTRICT_NAME            0\n",
       "PROVINCE                 0\n",
       "FINANCE_AMOUNT           0\n",
       "CUSTOMER_VALUATION     222\n",
       "EFFECTIVE_RATE           0\n",
       "AGE                     21\n",
       "MARITAL_STATUS        1687\n",
       "INCOME                   0\n",
       "EXPENSE                  0\n",
       "dtype: int64"
      ]
     },
     "execution_count": 12,
     "metadata": {},
     "output_type": "execute_result"
    }
   ],
   "source": [
    "sample.isnull().sum()"
   ]
  },
  {
   "cell_type": "code",
   "execution_count": 13,
   "id": "6fe1e515",
   "metadata": {},
   "outputs": [
    {
     "data": {
      "text/plain": [
       "<AxesSubplot:>"
      ]
     },
     "execution_count": 13,
     "metadata": {},
     "output_type": "execute_result"
    },
    {
     "data": {
      "image/png": "[encoded data removed]",
      "text/plain": [
       "<Figure size 432x288 with 1 Axes>"
      ]
     },
     "metadata": {
      "needs_background": "light"
     },
     "output_type": "display_data"
    }
   ],
   "source": [
    "sns.heatmap(sample.isnull(),yticklabels=False,cbar=False,cmap='viridis')"
   ]
  },
  {
   "cell_type": "code",
   "execution_count": 14,
   "id": "700a9b1a",
   "metadata": {},
   "outputs": [],
   "source": [
    "def impute_mstatus(msts):\n",
    "    MARITAL_STATUS = msts\n",
    "    \n",
    "    if pd.isnull(MARITAL_STATUS):\n",
    "        return 'M'\n",
    "\n",
    "    else:\n",
    "        return MARITAL_STATUS"
   ]
  },
  {
   "cell_type": "code",
   "execution_count": 15,
   "id": "3436a2f6",
   "metadata": {},
   "outputs": [],
   "source": [
    "sample['MARITAL_STATUS'] = sample['MARITAL_STATUS'].apply(impute_mstatus)"
   ]
  },
  {
   "cell_type": "markdown",
   "id": "a3d20d4c",
   "metadata": {},
   "source": [
    "***Now null values of Marital status are filled with 'M' which indicates the married***"
   ]
  },
  {
   "cell_type": "code",
   "execution_count": 16,
   "id": "bd8a83d4",
   "metadata": {},
   "outputs": [],
   "source": [
    "#if sample['ASSET_TYPE_NAME'] == \"not defined\" :\n",
    "    #sample = df.drop(['ASSET_TYPE_NAME'],axis=0)\n",
    "    "
   ]
  },
  {
   "cell_type": "markdown",
   "id": "9151fa0f",
   "metadata": {},
   "source": [
    "**Relationship Analysis**"
   ]
  },
  {
   "cell_type": "code",
   "execution_count": 17,
   "id": "71efcb39",
   "metadata": {},
   "outputs": [],
   "source": [
    "from sklearn.preprocessing import LabelEncoder"
   ]
  },
  {
   "cell_type": "code",
   "execution_count": 18,
   "id": "d0c161db",
   "metadata": {},
   "outputs": [],
   "source": [
    "le_new = LabelEncoder()\n",
    "sample['Gen_n'] = le_new.fit_transform(sample['GENDER'])\n",
    "sample['PName'] = le_new.fit_transform(sample['PRODUCT_NAME'])\n",
    "#sample['PCat'] = le_new.fit_transform(sample['PRODUCT_CATEGORY'])\n",
    "sample['AType'] = le_new.fit_transform(sample['ASSET_TYPE_NAME'])\n",
    "#sample['Make'] = le_new.fit_transform(sample['MAKE'])\n",
    "sample['Reg'] = le_new.fit_transform(sample['REGISTRATION'])\n",
    "sample['DName'] = le_new.fit_transform(sample['DISTRICT_NAME'])\n",
    "sample['City'] = le_new.fit_transform(sample['CITY'])\n",
    "sample['MStatus'] = le_new.fit_transform(sample['MARITAL_STATUS'])\n"
   ]
  },
  {
   "cell_type": "code",
   "execution_count": 19,
   "id": "ff816eca",
   "metadata": {},
   "outputs": [],
   "source": [
    "sample = sample.drop(['GENDER','PRODUCT_NAME','ASSET_TYPE_NAME','REGISTRATION','DISTRICT_NAME','CITY','MARITAL_STATUS'],axis=1)"
   ]
  },
  {
   "cell_type": "code",
   "execution_count": 20,
   "id": "b1b2d11f",
   "metadata": {},
   "outputs": [
    {
     "data": {
      "text/html": [
       "<div>\n",
       "<style scoped>\n",
       "    .dataframe tbody tr th:only-of-type {\n",
       "        vertical-align: middle;\n",
       "    }\n",
       "\n",
       "    .dataframe tbody tr th {\n",
       "        vertical-align: top;\n",
       "    }\n",
       "\n",
       "    .dataframe thead th {\n",
       "        text-align: right;\n",
       "    }\n",
       "</style>\n",
       "<table border=\"1\" class=\"dataframe\">\n",
       "  <thead>\n",
       "    <tr style=\"text-align: right;\">\n",
       "      <th></th>\n",
       "      <th>IS_DEFAULT</th>\n",
       "      <th>NET_RENTAL</th>\n",
       "      <th>NET_RENTAL_NEW</th>\n",
       "      <th>NR_PMT</th>\n",
       "      <th>NO_OF_RENTAL</th>\n",
       "      <th>YOM</th>\n",
       "      <th>MODEL_NAME</th>\n",
       "      <th>PROVINCE</th>\n",
       "      <th>FINANCE_AMOUNT</th>\n",
       "      <th>CUSTOMER_VALUATION</th>\n",
       "      <th>...</th>\n",
       "      <th>AGE</th>\n",
       "      <th>INCOME</th>\n",
       "      <th>EXPENSE</th>\n",
       "      <th>Gen_n</th>\n",
       "      <th>PName</th>\n",
       "      <th>AType</th>\n",
       "      <th>Reg</th>\n",
       "      <th>DName</th>\n",
       "      <th>City</th>\n",
       "      <th>MStatus</th>\n",
       "    </tr>\n",
       "  </thead>\n",
       "  <tbody>\n",
       "    <tr>\n",
       "      <th>0</th>\n",
       "      <td>0</td>\n",
       "      <td>11996.0</td>\n",
       "      <td>11995</td>\n",
       "      <td>-11995.440424</td>\n",
       "      <td>36</td>\n",
       "      <td>1979</td>\n",
       "      <td>LANCER</td>\n",
       "      <td>SABARAGAMUWA</td>\n",
       "      <td>290000.0</td>\n",
       "      <td>375000.0</td>\n",
       "      <td>...</td>\n",
       "      <td>62.0</td>\n",
       "      <td>46000.0</td>\n",
       "      <td>15000.0</td>\n",
       "      <td>1</td>\n",
       "      <td>2</td>\n",
       "      <td>3</td>\n",
       "      <td>1</td>\n",
       "      <td>21</td>\n",
       "      <td>11</td>\n",
       "      <td>1</td>\n",
       "    </tr>\n",
       "    <tr>\n",
       "      <th>1</th>\n",
       "      <td>1</td>\n",
       "      <td>13070.0</td>\n",
       "      <td>13070</td>\n",
       "      <td>-13069.554943</td>\n",
       "      <td>48</td>\n",
       "      <td>1985</td>\n",
       "      <td>LANCER</td>\n",
       "      <td>SABARAGAMUWA</td>\n",
       "      <td>375000.0</td>\n",
       "      <td>475000.0</td>\n",
       "      <td>...</td>\n",
       "      <td>40.0</td>\n",
       "      <td>40000.0</td>\n",
       "      <td>10750.0</td>\n",
       "      <td>1</td>\n",
       "      <td>2</td>\n",
       "      <td>3</td>\n",
       "      <td>1</td>\n",
       "      <td>21</td>\n",
       "      <td>11</td>\n",
       "      <td>1</td>\n",
       "    </tr>\n",
       "    <tr>\n",
       "      <th>2</th>\n",
       "      <td>0</td>\n",
       "      <td>12410.0</td>\n",
       "      <td>12411</td>\n",
       "      <td>-12410.697120</td>\n",
       "      <td>36</td>\n",
       "      <td>1984</td>\n",
       "      <td>COROLLA</td>\n",
       "      <td>SABARAGAMUWA</td>\n",
       "      <td>300000.0</td>\n",
       "      <td>500000.0</td>\n",
       "      <td>...</td>\n",
       "      <td>50.0</td>\n",
       "      <td>150000.0</td>\n",
       "      <td>75000.0</td>\n",
       "      <td>1</td>\n",
       "      <td>2</td>\n",
       "      <td>3</td>\n",
       "      <td>1</td>\n",
       "      <td>21</td>\n",
       "      <td>11</td>\n",
       "      <td>3</td>\n",
       "    </tr>\n",
       "    <tr>\n",
       "      <th>3</th>\n",
       "      <td>0</td>\n",
       "      <td>11108.0</td>\n",
       "      <td>11107</td>\n",
       "      <td>-11107.082256</td>\n",
       "      <td>48</td>\n",
       "      <td>1987</td>\n",
       "      <td>SUNNY</td>\n",
       "      <td>SABARAGAMUWA</td>\n",
       "      <td>365000.0</td>\n",
       "      <td>600000.0</td>\n",
       "      <td>...</td>\n",
       "      <td>67.0</td>\n",
       "      <td>35000.0</td>\n",
       "      <td>9000.0</td>\n",
       "      <td>1</td>\n",
       "      <td>2</td>\n",
       "      <td>3</td>\n",
       "      <td>1</td>\n",
       "      <td>21</td>\n",
       "      <td>11</td>\n",
       "      <td>1</td>\n",
       "    </tr>\n",
       "    <tr>\n",
       "      <th>4</th>\n",
       "      <td>0</td>\n",
       "      <td>19169.0</td>\n",
       "      <td>19169</td>\n",
       "      <td>-19168.680584</td>\n",
       "      <td>48</td>\n",
       "      <td>1990</td>\n",
       "      <td>MARCH.</td>\n",
       "      <td>SABARAGAMUWA</td>\n",
       "      <td>550000.0</td>\n",
       "      <td>700000.0</td>\n",
       "      <td>...</td>\n",
       "      <td>35.0</td>\n",
       "      <td>80000.0</td>\n",
       "      <td>30000.0</td>\n",
       "      <td>0</td>\n",
       "      <td>2</td>\n",
       "      <td>3</td>\n",
       "      <td>1</td>\n",
       "      <td>21</td>\n",
       "      <td>11</td>\n",
       "      <td>3</td>\n",
       "    </tr>\n",
       "  </tbody>\n",
       "</table>\n",
       "<p>5 rows × 21 columns</p>\n",
       "</div>"
      ],
      "text/plain": [
       "   IS_DEFAULT  NET_RENTAL  NET_RENTAL_NEW        NR_PMT  NO_OF_RENTAL   YOM  \\\n",
       "0           0     11996.0           11995 -11995.440424            36  1979   \n",
       "1           1     13070.0           13070 -13069.554943            48  1985   \n",
       "2           0     12410.0           12411 -12410.697120            36  1984   \n",
       "3           0     11108.0           11107 -11107.082256            48  1987   \n",
       "4           0     19169.0           19169 -19168.680584            48  1990   \n",
       "\n",
       "  MODEL_NAME      PROVINCE  FINANCE_AMOUNT  CUSTOMER_VALUATION  ...   AGE  \\\n",
       "0     LANCER  SABARAGAMUWA        290000.0            375000.0  ...  62.0   \n",
       "1     LANCER  SABARAGAMUWA        375000.0            475000.0  ...  40.0   \n",
       "2    COROLLA  SABARAGAMUWA        300000.0            500000.0  ...  50.0   \n",
       "3      SUNNY  SABARAGAMUWA        365000.0            600000.0  ...  67.0   \n",
       "4     MARCH.  SABARAGAMUWA        550000.0            700000.0  ...  35.0   \n",
       "\n",
       "     INCOME  EXPENSE  Gen_n  PName  AType  Reg  DName  City  MStatus  \n",
       "0   46000.0  15000.0      1      2      3    1     21    11        1  \n",
       "1   40000.0  10750.0      1      2      3    1     21    11        1  \n",
       "2  150000.0  75000.0      1      2      3    1     21    11        3  \n",
       "3   35000.0   9000.0      1      2      3    1     21    11        1  \n",
       "4   80000.0  30000.0      0      2      3    1     21    11        3  \n",
       "\n",
       "[5 rows x 21 columns]"
      ]
     },
     "execution_count": 20,
     "metadata": {},
     "output_type": "execute_result"
    }
   ],
   "source": [
    "sample.head()"
   ]
  },
  {
   "cell_type": "markdown",
   "id": "fd0f47be",
   "metadata": {},
   "source": [
    "**Droping categorical data**"
   ]
  },
  {
   "cell_type": "code",
   "execution_count": 21,
   "id": "c13fb5dd",
   "metadata": {},
   "outputs": [],
   "source": [
    "corelation = sample.corr()"
   ]
  },
  {
   "cell_type": "code",
   "execution_count": 22,
   "id": "9c2b0a25",
   "metadata": {},
   "outputs": [
    {
     "data": {
      "text/plain": [
       "Text(0.5, 1.0, 'sample.corr()')"
      ]
     },
     "execution_count": 22,
     "metadata": {},
     "output_type": "execute_result"
    },
    {
     "data": {
      "image/png": "[encoded data removed]",
      "text/plain": [
       "<Figure size 1152x504 with 2 Axes>"
      ]
     },
     "metadata": {
      "needs_background": "light"
     },
     "output_type": "display_data"
    }
   ],
   "source": [
    "import matplotlib.pyplot as plt\n",
    "plt.figure(figsize = (16,7))\n",
    "sns.heatmap(sample.corr(),cmap='coolwarm', annot=True)\n",
    "plt.title('sample.corr()')"
   ]
  },
  {
   "cell_type": "code",
   "execution_count": 23,
   "id": "84d9f14c",
   "metadata": {},
   "outputs": [],
   "source": [
    "def correlation(dataset, threshold):\n",
    "    col_corr = set()  # Set of all the names of correlated columns\n",
    "    corr_matrix = dataset.corr()\n",
    "    for i in range(len(corr_matrix.columns)):\n",
    "        for j in range(i):\n",
    "            if abs(corr_matrix.iloc[i, j]) > threshold: # we are interested in absolute coeff value\n",
    "                colname = corr_matrix.columns[i]  # getting the name of column\n",
    "                col_corr.add(colname)\n",
    "    return col_corr"
   ]
  },
  {
   "cell_type": "code",
   "execution_count": 24,
   "id": "c5f1b02e",
   "metadata": {},
   "outputs": [
    {
     "data": {
      "text/plain": [
       "{'CUSTOMER_VALUATION', 'EXPENSE', 'FINANCE_AMOUNT', 'NR_PMT'}"
      ]
     },
     "execution_count": 24,
     "metadata": {},
     "output_type": "execute_result"
    }
   ],
   "source": [
    "corr_features = correlation(sample, 0.7)\n",
    "corr_features"
   ]
  },
  {
   "cell_type": "code",
   "execution_count": 32,
   "id": "b950a12e",
   "metadata": {},
   "outputs": [],
   "source": [
    "sample1 = sample.drop(['CUSTOMER_VALUATION','NR_PMT'],axis=1)"
   ]
  },
  {
   "cell_type": "code",
   "execution_count": 33,
   "id": "86928d2a",
   "metadata": {},
   "outputs": [
    {
     "data": {
      "text/html": [
       "<div>\n",
       "<style scoped>\n",
       "    .dataframe tbody tr th:only-of-type {\n",
       "        vertical-align: middle;\n",
       "    }\n",
       "\n",
       "    .dataframe tbody tr th {\n",
       "        vertical-align: top;\n",
       "    }\n",
       "\n",
       "    .dataframe thead th {\n",
       "        text-align: right;\n",
       "    }\n",
       "</style>\n",
       "<table border=\"1\" class=\"dataframe\">\n",
       "  <thead>\n",
       "    <tr style=\"text-align: right;\">\n",
       "      <th></th>\n",
       "      <th>IS_DEFAULT</th>\n",
       "      <th>NET_RENTAL</th>\n",
       "      <th>NET_RENTAL_NEW</th>\n",
       "      <th>NO_OF_RENTAL</th>\n",
       "      <th>YOM</th>\n",
       "      <th>FINANCE_AMOUNT</th>\n",
       "      <th>EFFECTIVE_RATE</th>\n",
       "      <th>AGE</th>\n",
       "      <th>INCOME</th>\n",
       "      <th>EXPENSE</th>\n",
       "      <th>Gen_n</th>\n",
       "      <th>PName</th>\n",
       "      <th>AType</th>\n",
       "      <th>Reg</th>\n",
       "      <th>DName</th>\n",
       "      <th>City</th>\n",
       "      <th>MStatus</th>\n",
       "    </tr>\n",
       "  </thead>\n",
       "  <tbody>\n",
       "    <tr>\n",
       "      <th>count</th>\n",
       "      <td>81018.000000</td>\n",
       "      <td>8.101800e+04</td>\n",
       "      <td>81018.000000</td>\n",
       "      <td>81018.000000</td>\n",
       "      <td>81018.000000</td>\n",
       "      <td>8.101800e+04</td>\n",
       "      <td>81018.000000</td>\n",
       "      <td>80997.000000</td>\n",
       "      <td>81018.000000</td>\n",
       "      <td>81018.000000</td>\n",
       "      <td>81018.000000</td>\n",
       "      <td>81018.000000</td>\n",
       "      <td>81018.000000</td>\n",
       "      <td>81018.000000</td>\n",
       "      <td>81018.000000</td>\n",
       "      <td>81018.000000</td>\n",
       "      <td>81018.000000</td>\n",
       "    </tr>\n",
       "    <tr>\n",
       "      <th>mean</th>\n",
       "      <td>0.081686</td>\n",
       "      <td>1.413739e+04</td>\n",
       "      <td>13134.504283</td>\n",
       "      <td>36.668543</td>\n",
       "      <td>1907.789022</td>\n",
       "      <td>3.506321e+05</td>\n",
       "      <td>28.912675</td>\n",
       "      <td>40.388422</td>\n",
       "      <td>79104.898933</td>\n",
       "      <td>26672.391914</td>\n",
       "      <td>0.758066</td>\n",
       "      <td>7.987682</td>\n",
       "      <td>11.301032</td>\n",
       "      <td>0.340060</td>\n",
       "      <td>9.542238</td>\n",
       "      <td>43.158323</td>\n",
       "      <td>1.793663</td>\n",
       "    </tr>\n",
       "    <tr>\n",
       "      <th>std</th>\n",
       "      <td>0.273887</td>\n",
       "      <td>2.509263e+04</td>\n",
       "      <td>13218.771010</td>\n",
       "      <td>10.770259</td>\n",
       "      <td>438.717473</td>\n",
       "      <td>4.617603e+05</td>\n",
       "      <td>6.216106</td>\n",
       "      <td>10.620025</td>\n",
       "      <td>72060.913838</td>\n",
       "      <td>30978.927282</td>\n",
       "      <td>0.436535</td>\n",
       "      <td>2.923389</td>\n",
       "      <td>3.535336</td>\n",
       "      <td>0.473732</td>\n",
       "      <td>7.267197</td>\n",
       "      <td>24.783009</td>\n",
       "      <td>0.983539</td>\n",
       "    </tr>\n",
       "    <tr>\n",
       "      <th>min</th>\n",
       "      <td>0.000000</td>\n",
       "      <td>2.000000e-02</td>\n",
       "      <td>1357.000000</td>\n",
       "      <td>6.000000</td>\n",
       "      <td>-201.000000</td>\n",
       "      <td>9.729130e+03</td>\n",
       "      <td>12.000000</td>\n",
       "      <td>5.000000</td>\n",
       "      <td>10000.000000</td>\n",
       "      <td>8000.000000</td>\n",
       "      <td>0.000000</td>\n",
       "      <td>0.000000</td>\n",
       "      <td>0.000000</td>\n",
       "      <td>0.000000</td>\n",
       "      <td>0.000000</td>\n",
       "      <td>0.000000</td>\n",
       "      <td>0.000000</td>\n",
       "    </tr>\n",
       "    <tr>\n",
       "      <th>25%</th>\n",
       "      <td>0.000000</td>\n",
       "      <td>6.990000e+03</td>\n",
       "      <td>7061.000000</td>\n",
       "      <td>36.000000</td>\n",
       "      <td>2005.000000</td>\n",
       "      <td>1.522500e+05</td>\n",
       "      <td>26.000000</td>\n",
       "      <td>32.000000</td>\n",
       "      <td>35000.000000</td>\n",
       "      <td>10500.000000</td>\n",
       "      <td>1.000000</td>\n",
       "      <td>7.000000</td>\n",
       "      <td>11.000000</td>\n",
       "      <td>0.000000</td>\n",
       "      <td>4.000000</td>\n",
       "      <td>22.000000</td>\n",
       "      <td>1.000000</td>\n",
       "    </tr>\n",
       "    <tr>\n",
       "      <th>50%</th>\n",
       "      <td>0.000000</td>\n",
       "      <td>9.401000e+03</td>\n",
       "      <td>9456.000000</td>\n",
       "      <td>36.000000</td>\n",
       "      <td>2013.000000</td>\n",
       "      <td>2.049900e+05</td>\n",
       "      <td>30.000000</td>\n",
       "      <td>39.000000</td>\n",
       "      <td>53904.000000</td>\n",
       "      <td>15800.000000</td>\n",
       "      <td>1.000000</td>\n",
       "      <td>9.000000</td>\n",
       "      <td>11.000000</td>\n",
       "      <td>0.000000</td>\n",
       "      <td>8.000000</td>\n",
       "      <td>41.000000</td>\n",
       "      <td>1.000000</td>\n",
       "    </tr>\n",
       "    <tr>\n",
       "      <th>75%</th>\n",
       "      <td>0.000000</td>\n",
       "      <td>1.352700e+04</td>\n",
       "      <td>13251.000000</td>\n",
       "      <td>42.000000</td>\n",
       "      <td>2015.000000</td>\n",
       "      <td>3.250000e+05</td>\n",
       "      <td>32.010000</td>\n",
       "      <td>47.000000</td>\n",
       "      <td>96000.000000</td>\n",
       "      <td>30000.000000</td>\n",
       "      <td>1.000000</td>\n",
       "      <td>9.000000</td>\n",
       "      <td>14.000000</td>\n",
       "      <td>1.000000</td>\n",
       "      <td>16.000000</td>\n",
       "      <td>63.000000</td>\n",
       "      <td>3.000000</td>\n",
       "    </tr>\n",
       "    <tr>\n",
       "      <th>max</th>\n",
       "      <td>1.000000</td>\n",
       "      <td>2.229216e+06</td>\n",
       "      <td>550080.000000</td>\n",
       "      <td>86.000000</td>\n",
       "      <td>6580.000000</td>\n",
       "      <td>1.160000e+07</td>\n",
       "      <td>49.990000</td>\n",
       "      <td>85.000000</td>\n",
       "      <td>500000.000000</td>\n",
       "      <td>400000.000000</td>\n",
       "      <td>2.000000</td>\n",
       "      <td>13.000000</td>\n",
       "      <td>19.000000</td>\n",
       "      <td>1.000000</td>\n",
       "      <td>23.000000</td>\n",
       "      <td>92.000000</td>\n",
       "      <td>5.000000</td>\n",
       "    </tr>\n",
       "  </tbody>\n",
       "</table>\n",
       "</div>"
      ],
      "text/plain": [
       "         IS_DEFAULT    NET_RENTAL  NET_RENTAL_NEW  NO_OF_RENTAL           YOM  \\\n",
       "count  81018.000000  8.101800e+04    81018.000000  81018.000000  81018.000000   \n",
       "mean       0.081686  1.413739e+04    13134.504283     36.668543   1907.789022   \n",
       "std        0.273887  2.509263e+04    13218.771010     10.770259    438.717473   \n",
       "min        0.000000  2.000000e-02     1357.000000      6.000000   -201.000000   \n",
       "25%        0.000000  6.990000e+03     7061.000000     36.000000   2005.000000   \n",
       "50%        0.000000  9.401000e+03     9456.000000     36.000000   2013.000000   \n",
       "75%        0.000000  1.352700e+04    13251.000000     42.000000   2015.000000   \n",
       "max        1.000000  2.229216e+06   550080.000000     86.000000   6580.000000   \n",
       "\n",
       "       FINANCE_AMOUNT  EFFECTIVE_RATE           AGE         INCOME  \\\n",
       "count    8.101800e+04    81018.000000  80997.000000   81018.000000   \n",
       "mean     3.506321e+05       28.912675     40.388422   79104.898933   \n",
       "std      4.617603e+05        6.216106     10.620025   72060.913838   \n",
       "min      9.729130e+03       12.000000      5.000000   10000.000000   \n",
       "25%      1.522500e+05       26.000000     32.000000   35000.000000   \n",
       "50%      2.049900e+05       30.000000     39.000000   53904.000000   \n",
       "75%      3.250000e+05       32.010000     47.000000   96000.000000   \n",
       "max      1.160000e+07       49.990000     85.000000  500000.000000   \n",
       "\n",
       "             EXPENSE         Gen_n         PName         AType           Reg  \\\n",
       "count   81018.000000  81018.000000  81018.000000  81018.000000  81018.000000   \n",
       "mean    26672.391914      0.758066      7.987682     11.301032      0.340060   \n",
       "std     30978.927282      0.436535      2.923389      3.535336      0.473732   \n",
       "min      8000.000000      0.000000      0.000000      0.000000      0.000000   \n",
       "25%     10500.000000      1.000000      7.000000     11.000000      0.000000   \n",
       "50%     15800.000000      1.000000      9.000000     11.000000      0.000000   \n",
       "75%     30000.000000      1.000000      9.000000     14.000000      1.000000   \n",
       "max    400000.000000      2.000000     13.000000     19.000000      1.000000   \n",
       "\n",
       "              DName          City       MStatus  \n",
       "count  81018.000000  81018.000000  81018.000000  \n",
       "mean       9.542238     43.158323      1.793663  \n",
       "std        7.267197     24.783009      0.983539  \n",
       "min        0.000000      0.000000      0.000000  \n",
       "25%        4.000000     22.000000      1.000000  \n",
       "50%        8.000000     41.000000      1.000000  \n",
       "75%       16.000000     63.000000      3.000000  \n",
       "max       23.000000     92.000000      5.000000  "
      ]
     },
     "execution_count": 33,
     "metadata": {},
     "output_type": "execute_result"
    }
   ],
   "source": [
    "sample1.describe()"
   ]
  },
  {
   "cell_type": "code",
   "execution_count": 34,
   "id": "e54cca3c",
   "metadata": {},
   "outputs": [],
   "source": [
    "sample1 = sample1.drop(['NET_RENTAL'],axis=1)"
   ]
  },
  {
   "cell_type": "code",
   "execution_count": 35,
   "id": "d869055d",
   "metadata": {},
   "outputs": [
    {
     "data": {
      "text/plain": [
       "Index(['IS_DEFAULT', 'NET_RENTAL_NEW', 'NO_OF_RENTAL', 'YOM', 'MODEL_NAME',\n",
       "       'PROVINCE', 'FINANCE_AMOUNT', 'EFFECTIVE_RATE', 'AGE', 'INCOME',\n",
       "       'EXPENSE', 'Gen_n', 'PName', 'AType', 'Reg', 'DName', 'City',\n",
       "       'MStatus'],\n",
       "      dtype='object')"
      ]
     },
     "execution_count": 35,
     "metadata": {},
     "output_type": "execute_result"
    }
   ],
   "source": [
    "sample1.columns"
   ]
  },
  {
   "cell_type": "markdown",
   "id": "9548b9b8",
   "metadata": {},
   "source": [
    "### Missing values and outliers handling"
   ]
  },
  {
   "cell_type": "code",
   "execution_count": 36,
   "id": "a0fe5c5a",
   "metadata": {},
   "outputs": [
    {
     "data": {
      "text/plain": [
       "<AxesSubplot:xlabel='IS_DEFAULT', ylabel='AGE'>"
      ]
     },
     "execution_count": 36,
     "metadata": {},
     "output_type": "execute_result"
    },
    {
     "data": {
      "image/png": "[encoded data removed]",
      "text/plain": [
       "<Figure size 864x504 with 1 Axes>"
      ]
     },
     "metadata": {
      "needs_background": "light"
     },
     "output_type": "display_data"
    }
   ],
   "source": [
    "plt.figure(figsize=(12, 7))\n",
    "sns.boxplot(x='IS_DEFAULT',y='AGE',data=df,palette='winter')"
   ]
  },
  {
   "cell_type": "code",
   "execution_count": 37,
   "id": "55e3bc25",
   "metadata": {},
   "outputs": [],
   "source": [
    "mean = sample1['AGE'].mean()"
   ]
  },
  {
   "cell_type": "code",
   "execution_count": 38,
   "id": "4913b5fc",
   "metadata": {},
   "outputs": [],
   "source": [
    "Q1 = sample1['AGE'].quantile(0.25)\n",
    "Q3 = sample1['AGE'].quantile(0.75)"
   ]
  },
  {
   "cell_type": "code",
   "execution_count": 39,
   "id": "6a99a909",
   "metadata": {},
   "outputs": [],
   "source": [
    "IQR = Q3 - Q1"
   ]
  },
  {
   "cell_type": "code",
   "execution_count": 40,
   "id": "5d61b8a3",
   "metadata": {},
   "outputs": [],
   "source": [
    "lower_extreme = Q1 - 1.5*IQR\n",
    "upper_extreme = Q3 + 1.5*IQR"
   ]
  },
  {
   "cell_type": "code",
   "execution_count": 41,
   "id": "a3293435",
   "metadata": {},
   "outputs": [],
   "source": [
    "def impute_age(age):\n",
    "    AGE = age\n",
    "    \n",
    "    if pd.isnull(AGE) :\n",
    "        return mean\n",
    "        \n",
    "    elif AGE <= lower_extreme:\n",
    "        return mean\n",
    "    \n",
    "    elif AGE >= upper_extreme:\n",
    "        return mean\n",
    "\n",
    "    else:\n",
    "        return AGE"
   ]
  },
  {
   "cell_type": "code",
   "execution_count": 42,
   "id": "444ee18e",
   "metadata": {},
   "outputs": [],
   "source": [
    "sample1['AGE'] = sample1['AGE'].apply(impute_age)"
   ]
  },
  {
   "cell_type": "markdown",
   "id": "e0278624",
   "metadata": {},
   "source": [
    "***outliers of age are fill with mean of the age***"
   ]
  },
  {
   "cell_type": "code",
   "execution_count": 43,
   "id": "8edf5593",
   "metadata": {},
   "outputs": [
    {
     "data": {
      "text/plain": [
       "Index(['IS_DEFAULT', 'NET_RENTAL_NEW', 'NO_OF_RENTAL', 'YOM', 'MODEL_NAME',\n",
       "       'PROVINCE', 'FINANCE_AMOUNT', 'EFFECTIVE_RATE', 'AGE', 'INCOME',\n",
       "       'EXPENSE', 'Gen_n', 'PName', 'AType', 'Reg', 'DName', 'City',\n",
       "       'MStatus'],\n",
       "      dtype='object')"
      ]
     },
     "execution_count": 43,
     "metadata": {},
     "output_type": "execute_result"
    }
   ],
   "source": [
    "sample1.columns"
   ]
  },
  {
   "cell_type": "code",
   "execution_count": 44,
   "id": "53455d8c",
   "metadata": {},
   "outputs": [
    {
     "data": {
      "text/plain": [
       "IS_DEFAULT        0\n",
       "NET_RENTAL_NEW    0\n",
       "NO_OF_RENTAL      0\n",
       "YOM               0\n",
       "MODEL_NAME        8\n",
       "PROVINCE          0\n",
       "FINANCE_AMOUNT    0\n",
       "EFFECTIVE_RATE    0\n",
       "AGE               0\n",
       "INCOME            0\n",
       "EXPENSE           0\n",
       "Gen_n             0\n",
       "PName             0\n",
       "AType             0\n",
       "Reg               0\n",
       "DName             0\n",
       "City              0\n",
       "MStatus           0\n",
       "dtype: int64"
      ]
     },
     "execution_count": 44,
     "metadata": {},
     "output_type": "execute_result"
    }
   ],
   "source": [
    "sample1.isnull().sum()"
   ]
  },
  {
   "cell_type": "code",
   "execution_count": 45,
   "id": "75673284",
   "metadata": {},
   "outputs": [
    {
     "data": {
      "text/plain": [
       "<AxesSubplot:>"
      ]
     },
     "execution_count": 45,
     "metadata": {},
     "output_type": "execute_result"
    },
    {
     "data": {
      "image/png": "[encoded data removed]",
      "text/plain": [
       "<Figure size 432x288 with 1 Axes>"
      ]
     },
     "metadata": {
      "needs_background": "light"
     },
     "output_type": "display_data"
    }
   ],
   "source": [
    "sns.heatmap(sample1.isnull(),yticklabels=False,cbar=False,cmap='viridis')"
   ]
  },
  {
   "cell_type": "code",
   "execution_count": 46,
   "id": "47bf0c28",
   "metadata": {},
   "outputs": [],
   "source": [
    "def update_age(age):\n",
    "    AGE = age\n",
    "    \n",
    "    if AGE <= 20 :\n",
    "        return mean\n",
    "        \n",
    "    else:\n",
    "        return AGE"
   ]
  },
  {
   "cell_type": "code",
   "execution_count": 47,
   "id": "4a6e1fb5",
   "metadata": {},
   "outputs": [],
   "source": [
    "sample1['AGE'] = sample1['AGE'].apply(update_age)"
   ]
  },
  {
   "cell_type": "code",
   "execution_count": 49,
   "id": "a83fbd6a",
   "metadata": {},
   "outputs": [],
   "source": [
    "sample1 = sample1.drop(['PROVINCE'],axis=1)"
   ]
  },
  {
   "cell_type": "code",
   "execution_count": 51,
   "id": "1d8cff22",
   "metadata": {},
   "outputs": [],
   "source": [
    "sample1 = sample1.drop(['MODEL_NAME'],axis=1)"
   ]
  },
  {
   "cell_type": "code",
   "execution_count": 52,
   "id": "9b2c0fb1",
   "metadata": {},
   "outputs": [
    {
     "data": {
      "text/plain": [
       "Index(['IS_DEFAULT', 'NET_RENTAL_NEW', 'NO_OF_RENTAL', 'YOM', 'FINANCE_AMOUNT',\n",
       "       'EFFECTIVE_RATE', 'AGE', 'INCOME', 'EXPENSE', 'Gen_n', 'PName', 'AType',\n",
       "       'Reg', 'DName', 'City', 'MStatus'],\n",
       "      dtype='object')"
      ]
     },
     "execution_count": 52,
     "metadata": {},
     "output_type": "execute_result"
    }
   ],
   "source": [
    "sample1.columns"
   ]
  },
  {
   "cell_type": "code",
   "execution_count": null,
   "id": "33cbf658",
   "metadata": {},
   "outputs": [],
   "source": []
  }
 ],
 "metadata": {
  "kernelspec": {
   "display_name": "Python 3 (ipykernel)",
   "language": "python",
   "name": "python3"
  },
  "language_info": {
   "codemirror_mode": {
    "name": "ipython",
    "version": 3
   },
   "file_extension": ".py",
   "mimetype": "text/x-python",
   "name": "python",
   "nbconvert_exporter": "python",
   "pygments_lexer": "ipython3",
   "version": "3.9.6"
  }
 },
 "nbformat": 4,
 "nbformat_minor": 5
}
